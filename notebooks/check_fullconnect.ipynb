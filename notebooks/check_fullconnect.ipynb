{
 "cells": [
  {
   "cell_type": "code",
   "execution_count": 1,
   "id": "9c1e4140-a90c-4af6-b200-c6c07d20e2c6",
   "metadata": {},
   "outputs": [],
   "source": [
    "from random import seed\n",
    "import numpy as np\n",
    "import pandas as pd\n",
    "import json\n",
    "import os\n",
    "import sys\n",
    "import gc\n",
    "import shutil\n",
    "from pprint import pprint\n",
    "from pathlib import Path\n",
    "from typing import *\n",
    "\n",
    "import tensorflow as tf\n",
    "from tensorflow import keras\n",
    "from tensorflow.keras.callbacks import EarlyStopping, ReduceLROnPlateau, ModelCheckpoint"
   ]
  },
  {
   "cell_type": "code",
   "execution_count": 4,
   "id": "fde020da-6694-459a-b8f3-c36612eae14a",
   "metadata": {},
   "outputs": [
    {
     "name": "stdout",
     "output_type": "stream",
     "text": [
      "/home/yamaguchi-milkcocholate/GoogleBrain-VentilatorPressurePrediction\n"
     ]
    }
   ],
   "source": [
    "import sys\n",
    "\n",
    "print(str(Path().resolve().parent))\n",
    "sys.path.append(str(Path().resolve().parent))\n",
    "\n",
    "from src.utils import (\n",
    "    seed_every_thing,\n",
    "    fetch_data,\n",
    "    Config,\n",
    "    plot_metric,\n",
    "    reduce_tf_gpu_memory,\n",
    "    reduce_mem_usage,\n",
    "    fetch_custom_data,\n",
    "    CustomL1Loss\n",
    ")"
   ]
  },
  {
   "cell_type": "code",
   "execution_count": 2,
   "id": "aaaf9cf6-4bed-49fb-8f80-cdbbe19e4c49",
   "metadata": {},
   "outputs": [],
   "source": [
    "basedir = Path().resolve().parent\n",
    "datadir = basedir / \"data\"\n",
    "logdir = basedir / \"logs\"\n",
    "cachedir = basedir / \"cache\""
   ]
  },
  {
   "cell_type": "code",
   "execution_count": 6,
   "id": "149dd4f8-1080-460b-8c3a-cf88a4efa73e",
   "metadata": {},
   "outputs": [],
   "source": [
    "basemodeldir = logdir / \"lstm-soft\""
   ]
  },
  {
   "cell_type": "code",
   "execution_count": 7,
   "id": "c7307467-1349-4762-88c2-2cf5899466d7",
   "metadata": {},
   "outputs": [],
   "source": [
    "cfg_file_path = basemodeldir / \"config.json\"\n",
    "with open(cfg_file_path, \"rb\") as f:\n",
    "    config = json.load(f)\n",
    "\n",
    "config = Config().update(config)"
   ]
  },
  {
   "cell_type": "code",
   "execution_count": 9,
   "id": "aed4bf0c-8fee-4c13-8395-61ad14ea3857",
   "metadata": {},
   "outputs": [
    {
     "data": {
      "text/plain": [
       "(35000, 110)"
      ]
     },
     "execution_count": 9,
     "metadata": {},
     "output_type": "execute_result"
    }
   ],
   "source": [
    "train = pd.read_csv(cachedir / \"train-10fold-cut-soft-rc-2-debugTrue.csv\")\n",
    "train.shape"
   ]
  },
  {
   "cell_type": "code",
   "execution_count": 17,
   "id": "efa3ac3c-46ed-43ee-8101-4bc214edb313",
   "metadata": {},
   "outputs": [
    {
     "data": {
      "text/plain": [
       "Config()"
      ]
     },
     "execution_count": 17,
     "metadata": {},
     "output_type": "execute_result"
    }
   ],
   "source": [
    "config.update({\"embed_dim\": 16})"
   ]
  },
  {
   "cell_type": "code",
   "execution_count": 25,
   "id": "27390cc5-57b8-454f-b60a-674f8e149d80",
   "metadata": {},
   "outputs": [],
   "source": [
    "def build_model(config: Config, n_features, basemodeldir) -> keras.models.Sequential:\n",
    "    model = keras.models.Sequential([keras.layers.Input(shape=(config.cut, n_features))])\n",
    "    for n_unit in config.n_units:\n",
    "        model.add(\n",
    "            keras.layers.Bidirectional(\n",
    "                keras.layers.LSTM(\n",
    "                    n_unit,\n",
    "                    return_sequences=True,\n",
    "                )\n",
    "            )\n",
    "        )\n",
    "    for n_unit in config.n_dense_units:\n",
    "        model.add(keras.layers.Dense(n_unit, activation=\"selu\"))\n",
    "    model.add(keras.layers.Dense(1))\n",
    "    model.load_weights(basemodeldir / \"weights_custom_best.h5\")\n",
    "    model.summary()\n",
    "    \n",
    "    embed = model.layers[-2].output\n",
    "    embed = keras.layers.Dense(config.embed_dim, activation=\"selu\")(embed)\n",
    "    concat = keras.layers.Flatten()(embed)\n",
    "    outputs = keras.layers.Dense(config.cut)(concat)\n",
    "    \n",
    "    fc_model = keras.models.Model(inputs=model.inputs, outputs=outputs)\n",
    "    fc_model.compile(\n",
    "        optimizer=keras.optimizers.Adam(learning_rate=config.lr),\n",
    "        loss='mae')\n",
    "    return fc_model"
   ]
  },
  {
   "cell_type": "code",
   "execution_count": 26,
   "id": "bf741371-5811-40a6-af78-d880c6faf5ea",
   "metadata": {},
   "outputs": [
    {
     "name": "stdout",
     "output_type": "stream",
     "text": [
      "Model: \"sequential_9\"\n",
      "_________________________________________________________________\n",
      "Layer (type)                 Output Shape              Param #   \n",
      "=================================================================\n",
      "bidirectional_36 (Bidirectio (None, 35, 1512)          5231520   \n",
      "_________________________________________________________________\n",
      "bidirectional_37 (Bidirectio (None, 35, 1024)          8294400   \n",
      "_________________________________________________________________\n",
      "bidirectional_38 (Bidirectio (None, 35, 512)           2623488   \n",
      "_________________________________________________________________\n",
      "bidirectional_39 (Bidirectio (None, 35, 256)           656384    \n",
      "_________________________________________________________________\n",
      "dense_21 (Dense)             (None, 35, 50)            12850     \n",
      "_________________________________________________________________\n",
      "dense_22 (Dense)             (None, 35, 1)             51        \n",
      "=================================================================\n",
      "Total params: 16,818,693\n",
      "Trainable params: 16,818,693\n",
      "Non-trainable params: 0\n",
      "_________________________________________________________________\n"
     ]
    }
   ],
   "source": [
    "fc_model = build_model(config, 110 - 2, basemodeldir / \"fold0\")"
   ]
  },
  {
   "cell_type": "code",
   "execution_count": 28,
   "id": "62581ce4-68bf-46c7-9a07-1001c094dcb6",
   "metadata": {},
   "outputs": [
    {
     "name": "stdout",
     "output_type": "stream",
     "text": [
      "Model: \"model\"\n",
      "_________________________________________________________________\n",
      "Layer (type)                 Output Shape              Param #   \n",
      "=================================================================\n",
      "input_10 (InputLayer)        [(None, 35, 108)]         0         \n",
      "_________________________________________________________________\n",
      "bidirectional_36 (Bidirectio (None, 35, 1512)          5231520   \n",
      "_________________________________________________________________\n",
      "bidirectional_37 (Bidirectio (None, 35, 1024)          8294400   \n",
      "_________________________________________________________________\n",
      "bidirectional_38 (Bidirectio (None, 35, 512)           2623488   \n",
      "_________________________________________________________________\n",
      "bidirectional_39 (Bidirectio (None, 35, 256)           656384    \n",
      "_________________________________________________________________\n",
      "dense_21 (Dense)             (None, 35, 50)            12850     \n",
      "_________________________________________________________________\n",
      "dense_23 (Dense)             (None, 35, 16)            816       \n",
      "_________________________________________________________________\n",
      "flatten_3 (Flatten)          (None, 560)               0         \n",
      "_________________________________________________________________\n",
      "dense_24 (Dense)             (None, 35)                19635     \n",
      "=================================================================\n",
      "Total params: 16,839,093\n",
      "Trainable params: 16,839,093\n",
      "Non-trainable params: 0\n",
      "_________________________________________________________________\n"
     ]
    }
   ],
   "source": [
    "fc_model.summary()"
   ]
  },
  {
   "cell_type": "code",
   "execution_count": null,
   "id": "eb9e06a1-2911-49f5-94b9-898b602bf60c",
   "metadata": {},
   "outputs": [],
   "source": []
  }
 ],
 "metadata": {
  "kernelspec": {
   "display_name": "Python 3 (ipykernel)",
   "language": "python",
   "name": "python3"
  },
  "language_info": {
   "codemirror_mode": {
    "name": "ipython",
    "version": 3
   },
   "file_extension": ".py",
   "mimetype": "text/x-python",
   "name": "python",
   "nbconvert_exporter": "python",
   "pygments_lexer": "ipython3",
   "version": "3.9.0"
  }
 },
 "nbformat": 4,
 "nbformat_minor": 5
}
