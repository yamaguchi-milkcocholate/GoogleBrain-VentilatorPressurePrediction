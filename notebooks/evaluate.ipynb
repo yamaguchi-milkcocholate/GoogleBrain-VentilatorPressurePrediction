{
 "cells": [
  {
   "cell_type": "code",
   "execution_count": 47,
   "id": "b7a9f8aa-07db-4128-a5c0-e12ee9d701ca",
   "metadata": {},
   "outputs": [],
   "source": [
    "from random import seed\n",
    "import numpy as np\n",
    "import pandas as pd\n",
    "import json\n",
    "import os\n",
    "import sys\n",
    "import gc\n",
    "import shutil\n",
    "from pprint import pprint\n",
    "from pathlib import Path\n",
    "from typing import *\n",
    "\n",
    "import tensorflow as tf\n",
    "from tensorflow import keras\n",
    "from tensorflow.keras.callbacks import EarlyStopping, ReduceLROnPlateau, ModelCheckpoint\n",
    "from tensorflow.keras.metrics import categorical_accuracy\n",
    "\n",
    "from sklearn.metrics import mean_absolute_error as mae\n",
    "from sklearn.preprocessing import RobustScaler\n",
    "\n",
    "import sys\n",
    "\n",
    "from matplotlib import pyplot as plt"
   ]
  },
  {
   "cell_type": "code",
   "execution_count": 5,
   "id": "c52c4293-07f1-4198-84c5-6c40b633515f",
   "metadata": {},
   "outputs": [],
   "source": [
    "sys.path.append(str(Path().resolve().parent))\n",
    "\n",
    "from src.utils import seed_every_thing, Config, plot_metric, reduce_tf_gpu_memory, reduce_mem_usage, fetch_custom_data"
   ]
  },
  {
   "cell_type": "code",
   "execution_count": 18,
   "id": "98fb7bc6-8705-4e2f-aa98-75a21261ddda",
   "metadata": {},
   "outputs": [],
   "source": [
    "logdir = Path().resolve().parent / \"logs\" / \"cnn-classify-rc\"\n",
    "datadir = Path().resolve().parent / \"data\"\n",
    "cachedir = Path().resolve().parent / \"cache\""
   ]
  },
  {
   "cell_type": "code",
   "execution_count": 7,
   "id": "af8f8307-5349-44d9-a3bf-5c07b3d61d8e",
   "metadata": {},
   "outputs": [],
   "source": [
    "cfg_file_path = logdir / \"config.json\"\n",
    "with open(cfg_file_path, \"rb\") as f:\n",
    "    config = json.load(f)"
   ]
  },
  {
   "cell_type": "code",
   "execution_count": 9,
   "id": "468344ed-c2b0-4375-afb1-225386f73bc4",
   "metadata": {},
   "outputs": [],
   "source": [
    "def build_model(config: Config, n_features, n_classes) -> keras.models.Sequential:\n",
    "    model = keras.models.Sequential([keras.layers.Input(shape=(config.cut, n_features))])\n",
    "    for filters, kernel_size, dilation_rate in zip(\n",
    "        config.conv1d[\"filters\"], config.conv1d[\"kernel_sizes\"], config.conv1d[\"dilation_rates\"]\n",
    "    ):\n",
    "        model.add(\n",
    "            keras.layers.Conv1D(filters=filters, kernel_size=kernel_size, dilation_rate=dilation_rate, padding=\"same\")\n",
    "        )\n",
    "        model.add(keras.layers.BatchNormalization())\n",
    "        model.add(keras.layers.ReLU())\n",
    "    model.add(keras.layers.GlobalAveragePooling1D())\n",
    "    model.add(keras.layers.Dense(n_classes, activation=\"softmax\"))\n",
    "\n",
    "    model.compile(\n",
    "        optimizer=keras.optimizers.Adam(learning_rate=config.lr),\n",
    "        loss=\"categorical_crossentropy\",\n",
    "        metrics=[categorical_accuracy],\n",
    "    )\n",
    "    return model"
   ]
  },
  {
   "cell_type": "code",
   "execution_count": 10,
   "id": "91607b57-5597-4cef-b1c6-05769f4a9e6a",
   "metadata": {},
   "outputs": [
    {
     "name": "stdout",
     "output_type": "stream",
     "text": [
      "PhysicalDevice(name='/physical_device:GPU:0', device_type='GPU') memory growth: True\n",
      "PhysicalDevice(name='/physical_device:GPU:1', device_type='GPU') memory growth: True\n",
      "PhysicalDevice(name='/physical_device:GPU:2', device_type='GPU') memory growth: True\n"
     ]
    }
   ],
   "source": [
    "config = Config().update(config)\n",
    "reduce_tf_gpu_memory(gpu_id=config.gpu_id)"
   ]
  },
  {
   "cell_type": "code",
   "execution_count": 13,
   "id": "5349d29c-dde0-4b8f-9d4d-b0ea9f66385d",
   "metadata": {},
   "outputs": [
    {
     "name": "stdout",
     "output_type": "stream",
     "text": [
      "fetching data ...\n"
     ]
    },
    {
     "name": "stderr",
     "output_type": "stream",
     "text": [
      "/home/yamaguchi-milkcocholate/.local/share/virtualenvs/GoogleBrain-VentilatorPressurePrediction-QG-B7qSz/lib/python3.9/site-packages/numpy/lib/arraysetops.py:580: FutureWarning: elementwise comparison failed; returning scalar instead, but in the future will perform elementwise comparison\n",
      "  mask |= (ar1 == a)\n"
     ]
    },
    {
     "name": "stdout",
     "output_type": "stream",
     "text": [
      "done.\n"
     ]
    }
   ],
   "source": [
    "train_df, test_df, _ = fetch_custom_data(datadir=datadir, n_splits=config.n_splits)\n",
    "train_df[\"count\"], test_df[\"count\"] = (np.arange(train_df.shape[0]) % 80).astype(int), (\n",
    "    np.arange(test_df.shape[0]) % 80\n",
    ").astype(int)\n",
    "train_df = train_df[train_df[\"count\"] < config.cut].reset_index(drop=True)\n",
    "test_preds_idx = test_df[\"count\"] < config.cut\n",
    "test_df = test_df[test_preds_idx].reset_index(drop=True)\n",
    "test_df[\"pressure\"] = 0"
   ]
  },
  {
   "cell_type": "code",
   "execution_count": 15,
   "id": "4b80fe3c-a17f-464a-b01f-0a29b802c38d",
   "metadata": {},
   "outputs": [
    {
     "name": "stdout",
     "output_type": "stream",
     "text": [
      "Memory usage of dataframe is 2377.38 MB\n",
      "Memory usage after optimization is: 546.50 MB\n",
      "Decreased by 77.0%\n",
      "Memory usage of dataframe is 1571.49 MB\n",
      "Memory usage after optimization is: 360.97 MB\n",
      "Decreased by 77.0%\n"
     ]
    }
   ],
   "source": [
    "kfolds = train_df.iloc[0 :: config.cut][\"kfold\"].values\n",
    "train_df = reduce_mem_usage(pd.read_csv(cachedir / f\"train-classify-rc-debug{config.debug}.csv\"))\n",
    "test_df = reduce_mem_usage(pd.read_csv(cachedir / f\"test-classify-rc-debug{config.debug}.csv\"))"
   ]
  },
  {
   "cell_type": "code",
   "execution_count": 16,
   "id": "121a1ab7-083d-427c-b7f4-f7adb005e13c",
   "metadata": {},
   "outputs": [
    {
     "name": "stdout",
     "output_type": "stream",
     "text": [
      "['RC_20_10',\n",
      " 'RC_20_20',\n",
      " 'RC_20_50',\n",
      " 'RC_50_10',\n",
      " 'RC_50_20',\n",
      " 'RC_50_50',\n",
      " 'RC_5_10',\n",
      " 'RC_5_20',\n",
      " 'RC_5_50']\n",
      "['u_in',\n",
      " 'u_in_cumsum',\n",
      " 'u_in_cummean',\n",
      " 'u_in_lag_b1',\n",
      " 'u_in_lag_b2',\n",
      " 'u_in_lag_b3',\n",
      " 'u_in_lag_b4',\n",
      " 'u_in_lag_b5',\n",
      " 'u_in_lag_f1',\n",
      " 'u_in_lag_f2',\n",
      " 'u_in_lag_f3',\n",
      " 'u_in_lag_f4',\n",
      " 'u_in_lag_f5',\n",
      " 'u_in_diff_b1',\n",
      " 'u_in_diff_b2',\n",
      " 'u_in_diff_b3',\n",
      " 'u_in_diff_b4',\n",
      " 'u_in_diff_b5',\n",
      " 'u_in_diff_f1',\n",
      " 'u_in_diff_f2',\n",
      " 'u_in_diff_f3',\n",
      " 'u_in_diff_f4',\n",
      " 'u_in_diff_f5',\n",
      " 'u_in_bwindow_mean',\n",
      " 'u_in_bwindow_max',\n",
      " 'u_in_bwindow_min',\n",
      " 'u_in_bwindow_std',\n",
      " 'u_in_fwindow_mean',\n",
      " 'u_in_fwindow_max',\n",
      " 'u_in_fwindow_min',\n",
      " 'u_in_fwindow_std',\n",
      " 'u_in_cwindow_mean',\n",
      " 'u_in_cwindow_max',\n",
      " 'u_in_cwindow_min',\n",
      " 'u_in_cwindow_std',\n",
      " 'u_in_bwindow_ewm',\n",
      " 'u_in_fwindow_ewm',\n",
      " 'u_in_cwindow_ewm',\n",
      " 'u_in_bwindow_mean_diff',\n",
      " 'u_in_bwindow_max_diff',\n",
      " 'u_in_bwindow_min_diff',\n",
      " 'u_in_fwindow_mean_diff',\n",
      " 'u_in_fwindow_max_diff',\n",
      " 'u_in_fwindow_min_diff',\n",
      " 'u_in_cwindow_mean_diff',\n",
      " 'u_in_cwindow_max_diff',\n",
      " 'u_in_cwindow_min_diff',\n",
      " 'u_in_max',\n",
      " 'u_in_mean',\n",
      " 'u_in_std',\n",
      " 'u_in_max_diff',\n",
      " 'u_in_mean_diff',\n",
      " 'u_in_neib_mean_diff',\n",
      " 'u_in_neib_median_diff',\n",
      " 'u_in_neib_best_diff',\n",
      " 'u_in_neib_iqr']\n",
      "['u_in',\n",
      " 'u_in_cumsum',\n",
      " 'u_in_cummean',\n",
      " 'u_in_lag_b1',\n",
      " 'u_in_lag_b2',\n",
      " 'u_in_lag_b3',\n",
      " 'u_in_lag_b4',\n",
      " 'u_in_lag_b5',\n",
      " 'u_in_lag_f1',\n",
      " 'u_in_lag_f2',\n",
      " 'u_in_lag_f3',\n",
      " 'u_in_lag_f4',\n",
      " 'u_in_lag_f5',\n",
      " 'u_in_diff_b1',\n",
      " 'u_in_diff_b2',\n",
      " 'u_in_diff_b3',\n",
      " 'u_in_diff_b4',\n",
      " 'u_in_diff_b5',\n",
      " 'u_in_diff_f1',\n",
      " 'u_in_diff_f2',\n",
      " 'u_in_diff_f3',\n",
      " 'u_in_diff_f4',\n",
      " 'u_in_diff_f5',\n",
      " 'u_in_bwindow_mean',\n",
      " 'u_in_bwindow_max',\n",
      " 'u_in_bwindow_min',\n",
      " 'u_in_bwindow_std',\n",
      " 'u_in_fwindow_mean',\n",
      " 'u_in_fwindow_max',\n",
      " 'u_in_fwindow_min',\n",
      " 'u_in_fwindow_std',\n",
      " 'u_in_cwindow_mean',\n",
      " 'u_in_cwindow_max',\n",
      " 'u_in_cwindow_min',\n",
      " 'u_in_cwindow_std',\n",
      " 'u_in_bwindow_ewm',\n",
      " 'u_in_fwindow_ewm',\n",
      " 'u_in_cwindow_ewm',\n",
      " 'u_in_bwindow_mean_diff',\n",
      " 'u_in_bwindow_max_diff',\n",
      " 'u_in_bwindow_min_diff',\n",
      " 'u_in_fwindow_mean_diff',\n",
      " 'u_in_fwindow_max_diff',\n",
      " 'u_in_fwindow_min_diff',\n",
      " 'u_in_cwindow_mean_diff',\n",
      " 'u_in_cwindow_max_diff',\n",
      " 'u_in_cwindow_min_diff',\n",
      " 'u_in_max',\n",
      " 'u_in_mean',\n",
      " 'u_in_std',\n",
      " 'u_in_max_diff',\n",
      " 'u_in_mean_diff',\n",
      " 'u_in_neib_mean_diff',\n",
      " 'u_in_neib_median_diff',\n",
      " 'u_in_neib_best_diff',\n",
      " 'u_in_neib_iqr']\n"
     ]
    }
   ],
   "source": [
    "target_cols = [f for f in train_df.columns if \"RC_\" in f]\n",
    "features = [f for f in train_df.columns if \"u_in\" in f]\n",
    "cont_features = [f for f in features if (\"u_out\" not in f)]\n",
    "pprint(target_cols)\n",
    "pprint(features)\n",
    "pprint(cont_features)"
   ]
  },
  {
   "cell_type": "code",
   "execution_count": 17,
   "id": "c89f4929-ebda-42e3-89dd-b91224f8fc4c",
   "metadata": {},
   "outputs": [],
   "source": [
    "RS = RobustScaler()\n",
    "train_df[cont_features] = RS.fit_transform(train_df[cont_features])\n",
    "test_df[cont_features] = RS.transform(test_df[cont_features])\n",
    "train_data, test_data = train_df[features].values, test_df[features].values\n",
    "\n",
    "train_data = train_data.reshape(-1, config.cut, train_data.shape[-1])\n",
    "targets = train_df.iloc[0 :: config.cut][target_cols].to_numpy()\n",
    "test_data = test_data.reshape(-1, config.cut, test_data.shape[-1])"
   ]
  },
  {
   "cell_type": "code",
   "execution_count": 41,
   "id": "4720ab48-3fb2-4e7f-9f8f-5e5e654457bc",
   "metadata": {},
   "outputs": [
    {
     "name": "stdout",
     "output_type": "stream",
     "text": [
      "--------------- > Fold 1 < ---------------\n",
      "--------------- > Fold 2 < ---------------\n",
      "--------------- > Fold 3 < ---------------\n",
      "--------------- > Fold 4 < ---------------\n",
      "--------------- > Fold 5 < ---------------\n",
      "--------------- > Fold 6 < ---------------\n",
      "--------------- > Fold 7 < ---------------\n",
      "--------------- > Fold 8 < ---------------\n",
      "--------------- > Fold 9 < ---------------\n",
      "--------------- > Fold 10 < ---------------\n"
     ]
    }
   ],
   "source": [
    "with tf.device(f\"/GPU:{config.gpu_id}\"):\n",
    "    valid_preds = np.empty_like(targets).astype(np.float32)\n",
    "    test_preds = []\n",
    "    \n",
    "    for fold in range(config.n_splits):\n",
    "        train_idx, test_idx = (kfolds != fold), (kfolds == fold)\n",
    "        print(\"-\" * 15, \">\", f\"Fold {fold+1}\", \"<\", \"-\" * 15)\n",
    "        savedir = logdir / f\"fold{fold}\"\n",
    "\n",
    "        X_train, X_valid = train_data[train_idx], train_data[test_idx]\n",
    "        y_train, y_valid = targets[train_idx], targets[test_idx]\n",
    "\n",
    "        model = build_model(config=config, n_features=len(features), n_classes=len(target_cols))\n",
    "        model.load_weights(savedir / \"weights_best.h5\")\n",
    "\n",
    "        valid_preds[test_idx, :] = model.predict(X_valid)\n",
    "        test_preds.append(model.predict(test_data).reshape(-1, len(target_cols)))\n",
    "\n",
    "        del model, X_train, X_valid, y_train, y_valid\n",
    "        keras.backend.clear_session()\n",
    "        gc.collect()"
   ]
  },
  {
   "cell_type": "code",
   "execution_count": 43,
   "id": "a3f4f271-1376-4f0e-b1a1-aafbf45b735a",
   "metadata": {},
   "outputs": [],
   "source": [
    "pd.DataFrame(valid_preds).to_csv(logdir / \"valid_preds.csv\", index=False)"
   ]
  },
  {
   "cell_type": "code",
   "execution_count": 57,
   "id": "e4d7881c-9e7a-4456-8159-5dccd843c46a",
   "metadata": {},
   "outputs": [
    {
     "data": {
      "text/plain": [
       "(2640750, 9)"
      ]
     },
     "execution_count": 57,
     "metadata": {},
     "output_type": "execute_result"
    }
   ],
   "source": [
    "np.tile(valid_preds, (35, 1)).shape"
   ]
  }
 ],
 "metadata": {
  "kernelspec": {
   "display_name": "Python 3 (ipykernel)",
   "language": "python",
   "name": "python3"
  },
  "language_info": {
   "codemirror_mode": {
    "name": "ipython",
    "version": 3
   },
   "file_extension": ".py",
   "mimetype": "text/x-python",
   "name": "python",
   "nbconvert_exporter": "python",
   "pygments_lexer": "ipython3",
   "version": "3.9.0"
  }
 },
 "nbformat": 4,
 "nbformat_minor": 5
}
