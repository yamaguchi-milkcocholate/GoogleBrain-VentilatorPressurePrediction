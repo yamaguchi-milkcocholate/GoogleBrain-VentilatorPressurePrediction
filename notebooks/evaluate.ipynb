{
 "cells": [
  {
   "cell_type": "code",
   "execution_count": 1,
   "id": "b7a9f8aa-07db-4128-a5c0-e12ee9d701ca",
   "metadata": {},
   "outputs": [],
   "source": [
    "from random import seed\n",
    "import numpy as np\n",
    "import pandas as pd\n",
    "import json\n",
    "import os\n",
    "import sys\n",
    "import gc\n",
    "import shutil\n",
    "from pprint import pprint\n",
    "from pathlib import Path\n",
    "from typing import *\n",
    "\n",
    "import tensorflow as tf\n",
    "from tensorflow import keras\n",
    "from tensorflow.keras.callbacks import EarlyStopping, ReduceLROnPlateau, ModelCheckpoint\n",
    "from tensorflow.keras.metrics import categorical_accuracy\n",
    "\n",
    "from sklearn.metrics import mean_absolute_error as mae\n",
    "from sklearn.preprocessing import RobustScaler\n",
    "\n",
    "import sys\n",
    "\n",
    "from matplotlib import pyplot as plt"
   ]
  },
  {
   "cell_type": "code",
   "execution_count": 2,
   "id": "c52c4293-07f1-4198-84c5-6c40b633515f",
   "metadata": {},
   "outputs": [],
   "source": [
    "sys.path.append(str(Path().resolve().parent))\n",
    "\n",
    "from src.utils import seed_every_thing, Config, plot_metric, reduce_tf_gpu_memory, reduce_mem_usage, fetch_custom_data"
   ]
  },
  {
   "cell_type": "code",
   "execution_count": 3,
   "id": "98fb7bc6-8705-4e2f-aa98-75a21261ddda",
   "metadata": {},
   "outputs": [],
   "source": [
    "logdir = Path().resolve().parent / \"logs\" / \"cnn-classify-rc\"\n",
    "datadir = Path().resolve().parent / \"data\"\n",
    "cachedir = Path().resolve().parent / \"cache\""
   ]
  },
  {
   "cell_type": "code",
   "execution_count": 4,
   "id": "af8f8307-5349-44d9-a3bf-5c07b3d61d8e",
   "metadata": {},
   "outputs": [],
   "source": [
    "cfg_file_path = logdir / \"config.json\"\n",
    "with open(cfg_file_path, \"rb\") as f:\n",
    "    config = json.load(f)"
   ]
  },
  {
   "cell_type": "code",
   "execution_count": 48,
   "id": "468344ed-c2b0-4375-afb1-225386f73bc4",
   "metadata": {},
   "outputs": [],
   "source": [
    "def build_model(config: Config, n_features) -> keras.models.Sequential:\n",
    "    model = keras.models.Sequential([keras.layers.Input(shape=(config.cut, n_features))])\n",
    "    for n_unit in config.n_units:\n",
    "        model.add(\n",
    "            keras.layers.Bidirectional(\n",
    "                keras.layers.LSTM(\n",
    "                    n_unit,\n",
    "                    return_sequences=True,\n",
    "                )\n",
    "            )\n",
    "        )\n",
    "    for n_unit in config.n_dense_units:\n",
    "        model.add(keras.layers.Dense(n_unit, activation=\"selu\"))\n",
    "    model.add(keras.layers.Dense(1))\n",
    "\n",
    "    model.compile(optimizer=keras.optimizers.Adam(learning_rate=config.lr), loss=\"mae\")\n",
    "    return model\n",
    "\n",
    "def find_R(n):\n",
    "    if n in [0, 1, 2]:\n",
    "        return 0\n",
    "    elif n in [3, 4, 5]:\n",
    "        return 2\n",
    "    elif n in [6, 7, 8]:\n",
    "        return 1\n",
    "    else:\n",
    "        raise Exception()\n",
    "\n",
    "def find_C(n):\n",
    "    if n in [0, 3, 6]:\n",
    "        return 0\n",
    "    elif n in [1, 4, 7]:\n",
    "        return 1\n",
    "    elif n in [2, 5, 8]:\n",
    "        return 2\n",
    "    else:\n",
    "        raise Exception()\n",
    "\n",
    "def compute_metric(df, merge=True):\n",
    "    y_true, y_pred, u_out = df[\"pressure\"].values, df[\"pred\"].values, df[\"u_out\"].values\n",
    "    w = (1 - u_out)\n",
    "    \n",
    "    if merge:\n",
    "        mae = w * np.abs(y_true - y_pred)\n",
    "        mae = np.sum(mae) / np.sum(w)\n",
    "        return mae\n",
    "    else:\n",
    "        y_true, y_pred, w = y_true.reshape(-1, 35), y_pred.reshape(-1, 35), w.reshape(-1, 35)\n",
    "        maes = []\n",
    "        for yt, yp, w_ in zip(y_true, y_pred, w):\n",
    "            mae = w_ * np.abs(yt - yp)\n",
    "            mae = np.sum(mae) / np.sum(w_)\n",
    "            maes.append(mae)\n",
    "        return np.array(maes)"
   ]
  },
  {
   "cell_type": "code",
   "execution_count": 6,
   "id": "91607b57-5597-4cef-b1c6-05769f4a9e6a",
   "metadata": {},
   "outputs": [
    {
     "name": "stdout",
     "output_type": "stream",
     "text": [
      "PhysicalDevice(name='/physical_device:GPU:0', device_type='GPU') memory growth: True\n",
      "PhysicalDevice(name='/physical_device:GPU:1', device_type='GPU') memory growth: True\n",
      "PhysicalDevice(name='/physical_device:GPU:2', device_type='GPU') memory growth: True\n"
     ]
    }
   ],
   "source": [
    "config = Config().update(config)\n",
    "reduce_tf_gpu_memory(gpu_id=config.gpu_id)"
   ]
  },
  {
   "cell_type": "code",
   "execution_count": 27,
   "id": "fda57022-066c-472d-8a49-1cdf05e8ec05",
   "metadata": {},
   "outputs": [],
   "source": [
    "rc_preds = pd.read_csv(logdir.parent / \"cnn-classify-rc-reliable_4\" / \"valid_preds.csv\")\n",
    "rc_test_preds = pd.read_csv(logdir.parent / \"cnn-classify-rc-reliable_4\" / \"test_preds.csv\")"
   ]
  },
  {
   "cell_type": "code",
   "execution_count": 7,
   "id": "5349d29c-dde0-4b8f-9d4d-b0ea9f66385d",
   "metadata": {},
   "outputs": [
    {
     "name": "stdout",
     "output_type": "stream",
     "text": [
      "fetching data ...\n"
     ]
    },
    {
     "name": "stderr",
     "output_type": "stream",
     "text": [
      "/home/yamaguchi-milkcocholate/.local/share/virtualenvs/GoogleBrain-VentilatorPressurePrediction-QG-B7qSz/lib/python3.9/site-packages/numpy/lib/arraysetops.py:580: FutureWarning: elementwise comparison failed; returning scalar instead, but in the future will perform elementwise comparison\n",
      "  mask |= (ar1 == a)\n"
     ]
    },
    {
     "name": "stdout",
     "output_type": "stream",
     "text": [
      "done.\n"
     ]
    }
   ],
   "source": [
    "train_df, test_df, _ = fetch_custom_data(datadir=datadir, n_splits=config.n_splits)\n",
    "train_df[\"count\"], test_df[\"count\"] = (np.arange(train_df.shape[0]) % 80).astype(int), (\n",
    "    np.arange(test_df.shape[0]) % 80\n",
    ").astype(int)\n",
    "train_df = train_df[train_df[\"count\"] < config.cut].reset_index(drop=True)\n",
    "test_preds_idx = test_df[\"count\"] < config.cut\n",
    "test_df = test_df[test_preds_idx].reset_index(drop=True)\n",
    "test_df[\"pressure\"] = 0"
   ]
  },
  {
   "cell_type": "code",
   "execution_count": 8,
   "id": "4b80fe3c-a17f-464a-b01f-0a29b802c38d",
   "metadata": {},
   "outputs": [
    {
     "name": "stdout",
     "output_type": "stream",
     "text": [
      "Memory usage of dataframe is 5071.37 MB\n",
      "Memory usage after optimization is: 1168.54 MB\n",
      "Decreased by 77.0%\n",
      "Memory usage of dataframe is 1464.04 MB\n",
      "Memory usage after optimization is: 334.11 MB\n",
      "Decreased by 77.2%\n"
     ]
    }
   ],
   "source": [
    "kfolds = train_df.iloc[0 :: config.cut][\"kfold\"].values\n",
    "train_df = reduce_mem_usage(pd.read_csv(cachedir / f\"train-reliable-debug{config.debug}.csv\"))\n",
    "test_df = reduce_mem_usage(pd.read_csv(cachedir / f\"test_lstm-less-cut-addfeatures_debug{config.debug}.csv\"))"
   ]
  },
  {
   "cell_type": "code",
   "execution_count": 21,
   "id": "60076909-0730-4f18-941f-098991136c1a",
   "metadata": {},
   "outputs": [],
   "source": [
    "train_df = train_df[train_df[\"count\"] <= 35].reset_index(drop=True)"
   ]
  },
  {
   "cell_type": "code",
   "execution_count": 22,
   "id": "121a1ab7-083d-427c-b7f4-f7adb005e13c",
   "metadata": {},
   "outputs": [],
   "source": [
    "features = list(train_df.drop([\"kfold\", \"pressure\", \"is_reliable\"], axis=1).columns)\n",
    "cont_features = [\n",
    "    f\n",
    "    for f in features\n",
    "    if (\"RC_\" not in f) and (\"u_out\" not in f) and (\"R_\" not in f) and (\"C_\" not in f) and (\"u_out\" not in f)\n",
    "]\n",
    "# pprint(features)\n",
    "# pprint(cont_features)"
   ]
  },
  {
   "cell_type": "code",
   "execution_count": 24,
   "id": "c89f4929-ebda-42e3-89dd-b91224f8fc4c",
   "metadata": {},
   "outputs": [],
   "source": [
    "RS = RobustScaler()\n",
    "train_df[cont_features] = RS.fit_transform(train_df[cont_features])\n",
    "test_df[cont_features] = RS.transform(test_df[cont_features])\n",
    "train_data, test_data = train_df[features].values, test_df[features].values\n",
    "\n",
    "train_data = train_data.reshape(-1, config.cut, train_data.shape[-1])\n",
    "targets = train_df[[\"pressure\"]].to_numpy().reshape(-1, config.cut)\n",
    "test_data = test_data.reshape(-1, config.cut, test_data.shape[-1])"
   ]
  },
  {
   "cell_type": "code",
   "execution_count": 31,
   "id": "fdba40e6-72b9-4804-8b78-18b0f3e38852",
   "metadata": {},
   "outputs": [],
   "source": [
    "kfolds = train_df.iloc[0 :: config.cut][\"kfold\"].values"
   ]
  },
  {
   "cell_type": "code",
   "execution_count": 32,
   "id": "573f3f99-9a9b-4ab8-90e0-cbcbd8d54820",
   "metadata": {},
   "outputs": [],
   "source": [
    "rc_feature_idxs = np.array([i for i, f in enumerate(features) if \"RC_\" in f])\n",
    "r_feature_idxs = np.array([i for i, f in enumerate(features) if f in [\"R_20\", \"R_5\", \"R_50\"]])\n",
    "c_feature_idxs = np.array([i for i, f in enumerate(features) if f in [\"C_10\", \"C_20\", \"C_50\"]])"
   ]
  },
  {
   "cell_type": "code",
   "execution_count": 33,
   "id": "7f873843-e624-425c-8a15-68c207264bd7",
   "metadata": {},
   "outputs": [],
   "source": [
    "rc_preds_onehot = np.eye(rc_preds.shape[1])[rc_preds.values.argmax(axis=1)]\n",
    "r_preds_onehot = np.eye(3)[np.array(list(map(find_R, rc_preds.values.argmax(axis=1))))]\n",
    "c_preds_onehot = np.eye(3)[np.array(list(map(find_C, rc_preds.values.argmax(axis=1))))]"
   ]
  },
  {
   "cell_type": "code",
   "execution_count": 34,
   "id": "692d256a-7fe3-4935-a59d-29c7c7d189ce",
   "metadata": {},
   "outputs": [],
   "source": [
    "train_data_ = train_data.copy()\n",
    "\n",
    "train_data_[:, :, rc_feature_idxs] = np.tile(rc_preds_onehot, (1, 35)).reshape(-1, config.cut, rc_preds_onehot.shape[1])\n",
    "train_data_[:, :, r_feature_idxs] = np.tile(r_preds_onehot, (1, 35)).reshape(-1, config.cut, r_preds_onehot.shape[1])\n",
    "train_data_[:, :, c_feature_idxs] = np.tile(c_preds_onehot, (1, 35)).reshape(-1, config.cut, c_preds_onehot.shape[1])"
   ]
  },
  {
   "cell_type": "code",
   "execution_count": 55,
   "id": "4720ab48-3fb2-4e7f-9f8f-5e5e654457bc",
   "metadata": {},
   "outputs": [],
   "source": [
    "def inference(train_data):\n",
    "    cfg_file_path = logdir.parent / \"lstm-reliable\" / \"config.json\"\n",
    "    with open(cfg_file_path, \"rb\") as f:\n",
    "        config = json.load(f)\n",
    "        \n",
    "    config = Config().update(config)\n",
    "    with tf.device(f\"/GPU:1\"):\n",
    "        valid_preds = np.empty_like(targets).astype(np.float32)\n",
    "        # test_preds = []\n",
    "\n",
    "        for fold in range(config.n_splits):\n",
    "            train_idx, test_idx = (kfolds != fold), (kfolds == fold)\n",
    "            print(\"-\" * 15, \">\", f\"Fold {fold+1}\", \"<\", \"-\" * 15)\n",
    "            savedir = logdir.parent / \"lstm-reliable\"/ f\"fold{fold}\"\n",
    "\n",
    "            X_train, X_valid = train_data[train_idx], train_data[test_idx]\n",
    "            y_train, y_valid = targets[train_idx], targets[test_idx]\n",
    "\n",
    "            model = build_model(config=config, n_features=len(features))\n",
    "            model.load_weights(savedir / \"weights_best.h5\")\n",
    "\n",
    "            valid_preds[test_idx, :] = model.predict(X_valid).squeeze()\n",
    "            # test_preds.append(model.predict(test_data).squeeze().reshape(-1, 1).squeeze())\n",
    "\n",
    "            del model, X_train, X_valid, y_train, y_valid\n",
    "            keras.backend.clear_session()\n",
    "            gc.collect()\n",
    "    return valid_preds"
   ]
  },
  {
   "cell_type": "code",
   "execution_count": 40,
   "id": "cc4c9a5b-909c-4457-aa2d-d8acc15621de",
   "metadata": {},
   "outputs": [
    {
     "data": {
      "text/plain": [
       "0.16726234596954298"
      ]
     },
     "execution_count": 40,
     "metadata": {},
     "output_type": "execute_result"
    }
   ],
   "source": [
    "plane_preds = pd.read_csv(logdir.parent / \"lstm-reliable\" / \"valid_preds.csv\", index_col=0).values\n",
    "\n",
    "df = train_df[[\"pressure\", \"u_out\"]].copy()\n",
    "df[\"pred\"] = plane_preds.reshape(-1)\n",
    "compute_metric(df)"
   ]
  },
  {
   "cell_type": "code",
   "execution_count": 56,
   "id": "a3f4f271-1376-4f0e-b1a1-aafbf45b735a",
   "metadata": {},
   "outputs": [
    {
     "name": "stdout",
     "output_type": "stream",
     "text": [
      "--------------- > Fold 1 < ---------------\n",
      "--------------- > Fold 2 < ---------------\n",
      "--------------- > Fold 3 < ---------------\n",
      "--------------- > Fold 4 < ---------------\n",
      "--------------- > Fold 5 < ---------------\n",
      "--------------- > Fold 6 < ---------------\n",
      "--------------- > Fold 7 < ---------------\n",
      "--------------- > Fold 8 < ---------------\n",
      "--------------- > Fold 9 < ---------------\n",
      "--------------- > Fold 10 < ---------------\n"
     ]
    }
   ],
   "source": [
    "mod_preds = inference(train_data_)"
   ]
  },
  {
   "cell_type": "code",
   "execution_count": 57,
   "id": "e4d7881c-9e7a-4456-8159-5dccd843c46a",
   "metadata": {},
   "outputs": [
    {
     "data": {
      "text/plain": [
       "1.001877044987097"
      ]
     },
     "execution_count": 57,
     "metadata": {},
     "output_type": "execute_result"
    }
   ],
   "source": [
    "df = train_df[[\"pressure\", \"u_out\"]].copy()\n",
    "df[\"pred\"] = mod_preds.reshape(-1)\n",
    "compute_metric(df)"
   ]
  },
  {
   "cell_type": "code",
   "execution_count": 67,
   "id": "1e396b31-fd12-4445-8483-c9b1d8d93237",
   "metadata": {},
   "outputs": [
    {
     "data": {
      "text/plain": [
       "array([0, 0, 0, 1, 1, 1, 2, 2, 2, 3, 3, 3, 4, 4, 4])"
      ]
     },
     "execution_count": 67,
     "metadata": {},
     "output_type": "execute_result"
    }
   ],
   "source": [
    "np.tile(np.arange(5), (3, 1)).T.reshape(-1)"
   ]
  },
  {
   "cell_type": "code",
   "execution_count": 68,
   "id": "abe454c8-b5fe-4eb0-b471-75f0782d5d6c",
   "metadata": {},
   "outputs": [],
   "source": [
    "thr = 0.9\n",
    "is_apply = (rc_preds.values.max(axis=1) > 0.9)\n",
    "is_apply = np.tile(is_apply, (35, 1)).T.reshape(-1)"
   ]
  },
  {
   "cell_type": "code",
   "execution_count": 70,
   "id": "692cb9a9-eb6f-4d18-b29e-762954d9876e",
   "metadata": {},
   "outputs": [
    {
     "data": {
      "text/plain": [
       "0.79719897994778"
      ]
     },
     "execution_count": 70,
     "metadata": {},
     "output_type": "execute_result"
    }
   ],
   "source": [
    "comb_preds = np.where(is_apply, mod_preds.reshape(-1), plane_preds.reshape(-1))\n",
    "\n",
    "df = train_df[[\"pressure\", \"u_out\"]].copy()\n",
    "df[\"pred\"] = comb_preds\n",
    "compute_metric(df)"
   ]
  },
  {
   "cell_type": "code",
   "execution_count": 71,
   "id": "4580e26d-2a1b-448d-b17b-1f72d49acc42",
   "metadata": {},
   "outputs": [
    {
     "data": {
      "text/plain": [
       "array([[0., 0., 1., ..., 0., 0., 0.],\n",
       "       [0., 1., 0., ..., 0., 0., 0.],\n",
       "       [0., 0., 0., ..., 0., 0., 0.],\n",
       "       ...,\n",
       "       [1., 0., 0., ..., 0., 0., 0.],\n",
       "       [0., 0., 0., ..., 0., 0., 0.],\n",
       "       [0., 0., 0., ..., 0., 0., 0.]])"
      ]
     },
     "execution_count": 71,
     "metadata": {},
     "output_type": "execute_result"
    }
   ],
   "source": [
    "rc_preds_onehot"
   ]
  },
  {
   "cell_type": "code",
   "execution_count": 80,
   "id": "46b24460-a545-4f93-9af6-3640c96e288d",
   "metadata": {},
   "outputs": [
    {
     "data": {
      "text/plain": [
       "0.9456196156394964"
      ]
     },
     "execution_count": 80,
     "metadata": {},
     "output_type": "execute_result"
    }
   ],
   "source": [
    "a = train_df.iloc[0 :: 35][np.array(features)[rc_feature_idxs]].values\n",
    "\n",
    "from sklearn.metrics import accuracy_score\n",
    "\n",
    "\n",
    "accuracy_score(a.argmax(axis=1), rc_preds_onehot.argmax(axis=1))"
   ]
  }
 ],
 "metadata": {
  "kernelspec": {
   "display_name": "Python 3 (ipykernel)",
   "language": "python",
   "name": "python3"
  },
  "language_info": {
   "codemirror_mode": {
    "name": "ipython",
    "version": 3
   },
   "file_extension": ".py",
   "mimetype": "text/x-python",
   "name": "python",
   "nbconvert_exporter": "python",
   "pygments_lexer": "ipython3",
   "version": "3.9.0"
  }
 },
 "nbformat": 4,
 "nbformat_minor": 5
}
