{
 "cells": [
  {
   "cell_type": "code",
   "execution_count": 1,
   "id": "b7a9f8aa-07db-4128-a5c0-e12ee9d701ca",
   "metadata": {},
   "outputs": [],
   "source": [
    "from random import seed\n",
    "import numpy as np\n",
    "import pandas as pd\n",
    "import json\n",
    "import os\n",
    "import sys\n",
    "import gc\n",
    "import shutil\n",
    "from pprint import pprint\n",
    "from pathlib import Path\n",
    "from typing import *\n",
    "\n",
    "import tensorflow as tf\n",
    "from tensorflow import keras\n",
    "from tensorflow.keras.callbacks import EarlyStopping, ReduceLROnPlateau, ModelCheckpoint\n",
    "from tensorflow.keras.metrics import categorical_accuracy\n",
    "\n",
    "from sklearn.metrics import mean_absolute_error as mae\n",
    "from sklearn.preprocessing import RobustScaler\n",
    "\n",
    "import sys\n",
    "\n",
    "from matplotlib import pyplot as plt"
   ]
  },
  {
   "cell_type": "code",
   "execution_count": 2,
   "id": "c52c4293-07f1-4198-84c5-6c40b633515f",
   "metadata": {},
   "outputs": [],
   "source": [
    "sys.path.append(str(Path().resolve().parent))\n",
    "\n",
    "from src.utils import seed_every_thing, Config, plot_metric, reduce_tf_gpu_memory, reduce_mem_usage, fetch_custom_data"
   ]
  },
  {
   "cell_type": "code",
   "execution_count": 3,
   "id": "98fb7bc6-8705-4e2f-aa98-75a21261ddda",
   "metadata": {},
   "outputs": [],
   "source": [
    "logdir = Path().resolve().parent / \"logs\"\n",
    "datadir = Path().resolve().parent / \"data\"\n",
    "cachedir = Path().resolve().parent / \"cache\""
   ]
  },
  {
   "cell_type": "code",
   "execution_count": 4,
   "id": "af8f8307-5349-44d9-a3bf-5c07b3d61d8e",
   "metadata": {},
   "outputs": [],
   "source": [
    "cfg_file_path = logdir / \"lstm-less-addfeatures-cut-large-custom-mae\" / \"config.json\"\n",
    "with open(cfg_file_path, \"rb\") as f:\n",
    "    config = json.load(f)"
   ]
  },
  {
   "cell_type": "code",
   "execution_count": 5,
   "id": "468344ed-c2b0-4375-afb1-225386f73bc4",
   "metadata": {},
   "outputs": [],
   "source": [
    "def build_model(config: Config, n_features) -> keras.models.Sequential:\n",
    "    model = keras.models.Sequential([keras.layers.Input(shape=(config.cut, n_features))])\n",
    "    for n_unit in config.n_units:\n",
    "        model.add(\n",
    "            keras.layers.Bidirectional(\n",
    "                keras.layers.LSTM(\n",
    "                    n_unit,\n",
    "                    return_sequences=True,\n",
    "                )\n",
    "            )\n",
    "        )\n",
    "    for n_unit in config.n_dense_units:\n",
    "        model.add(keras.layers.Dense(n_unit, activation=\"selu\"))\n",
    "    model.add(keras.layers.Dense(1))\n",
    "\n",
    "    model.compile(\n",
    "        optimizer=keras.optimizers.Adam(learning_rate=config.lr), loss='mae')\n",
    "    return model\n",
    "\n",
    "def compute_metric(df, merge=True):\n",
    "    y_true, y_pred, u_out = df[\"pressure\"].values, df[\"pred\"].values, df[\"u_out\"].values\n",
    "    w = (1 - u_out)\n",
    "    \n",
    "    if merge:\n",
    "        mae = w * np.abs(y_true - y_pred)\n",
    "        mae = np.sum(mae) / np.sum(w)\n",
    "        return mae\n",
    "    else:\n",
    "        y_true, y_pred, w = y_true.reshape(-1, 35), y_pred.reshape(-1, 35), w.reshape(-1, 35)\n",
    "        maes = []\n",
    "        for yt, yp, w_ in zip(y_true, y_pred, w):\n",
    "            mae = w_ * np.abs(yt - yp)\n",
    "            mae = np.sum(mae) / np.sum(w_)\n",
    "            maes.append(mae)\n",
    "        return np.array(maes)"
   ]
  },
  {
   "cell_type": "code",
   "execution_count": 6,
   "id": "91607b57-5597-4cef-b1c6-05769f4a9e6a",
   "metadata": {},
   "outputs": [
    {
     "name": "stdout",
     "output_type": "stream",
     "text": [
      "PhysicalDevice(name='/physical_device:GPU:0', device_type='GPU') memory growth: True\n",
      "PhysicalDevice(name='/physical_device:GPU:1', device_type='GPU') memory growth: True\n",
      "PhysicalDevice(name='/physical_device:GPU:2', device_type='GPU') memory growth: True\n"
     ]
    }
   ],
   "source": [
    "config = Config().update(config)\n",
    "reduce_tf_gpu_memory(gpu_id=config.gpu_id)"
   ]
  },
  {
   "cell_type": "code",
   "execution_count": 7,
   "id": "4b80fe3c-a17f-464a-b01f-0a29b802c38d",
   "metadata": {},
   "outputs": [
    {
     "name": "stdout",
     "output_type": "stream",
     "text": [
      "Memory usage of dataframe is 2216.21 MB\n",
      "Memory usage after optimization is: 506.20 MB\n",
      "Decreased by 77.2%\n",
      "Memory usage of dataframe is 1464.04 MB\n",
      "Memory usage after optimization is: 334.11 MB\n",
      "Decreased by 77.2%\n"
     ]
    }
   ],
   "source": [
    "DEBUG = False\n",
    "train_df = reduce_mem_usage(pd.read_csv(cachedir / f\"train_lstm-less-cut-addfeatures_debug{DEBUG}.csv\"))\n",
    "test_df = reduce_mem_usage(pd.read_csv(cachedir / f\"test_lstm-less-cut-addfeatures_debug{DEBUG}.csv\"))\n",
    "kfolds = train_df.iloc[0 :: config.cut][\"kfold\"].values"
   ]
  },
  {
   "cell_type": "code",
   "execution_count": 8,
   "id": "121a1ab7-083d-427c-b7f4-f7adb005e13c",
   "metadata": {},
   "outputs": [],
   "source": [
    "features = list(train_df.drop([\"kfold\", \"pressure\"], axis=1).columns)\n",
    "cont_features = [\n",
    "    f for f in features if (\"RC_\" not in f) and (\"R_\" not in f) and (\"C_\" not in f) and (\"u_out\" not in f)\n",
    "]"
   ]
  },
  {
   "cell_type": "code",
   "execution_count": 9,
   "id": "c89f4929-ebda-42e3-89dd-b91224f8fc4c",
   "metadata": {},
   "outputs": [],
   "source": [
    "RS = RobustScaler()\n",
    "train_df[cont_features] = RS.fit_transform(train_df[cont_features])\n",
    "test_df[cont_features] = RS.transform(test_df[cont_features])\n",
    "train_data, test_data = train_df[features].values, test_df[features].values\n",
    "\n",
    "train_data = train_data.reshape(-1, config.cut, train_data.shape[-1])\n",
    "targets = train_df[[\"pressure\"]].to_numpy().reshape(-1, config.cut)\n",
    "test_data = test_data.reshape(-1, config.cut, test_data.shape[-1])"
   ]
  },
  {
   "cell_type": "code",
   "execution_count": 10,
   "id": "4720ab48-3fb2-4e7f-9f8f-5e5e654457bc",
   "metadata": {},
   "outputs": [],
   "source": [
    "def inference():\n",
    "    with tf.device(f\"/GPU:2\"):\n",
    "        latent_preds = np.empty((train_data.shape[0], train_data.shape[1], config.n_dense_units[-1])).astype(np.float32)\n",
    "        test_latent_preds = []\n",
    "\n",
    "        for fold in range(config.n_splits):\n",
    "            train_idx, test_idx = (kfolds != fold), (kfolds == fold)\n",
    "            print(\"-\" * 15, \">\", f\"Fold {fold+1}\", \"<\", \"-\" * 15)\n",
    "            savedir = logdir / \"lstm-less-addfeatures-cut-large-custom-mae\"/ f\"fold{fold}\"\n",
    "\n",
    "            X_train, X_valid = train_data[train_idx], train_data[test_idx]\n",
    "            y_train, y_valid = targets[train_idx], targets[test_idx]\n",
    "\n",
    "            model = build_model(config=config, n_features=len(features))\n",
    "            model.load_weights(savedir / \"weights_custom_best.h5\")\n",
    "            latent_features = model.layers[-2].output\n",
    "            new_model = keras.models.Model(inputs=model.inputs, outputs=latent_features)   \n",
    "\n",
    "            latent_preds[test_idx, :, :] = new_model.predict(X_valid)\n",
    "            test_latent_preds.append(new_model.predict(test_data))\n",
    "\n",
    "            del model, new_model, X_train, X_valid, y_train, y_valid\n",
    "            keras.backend.clear_session()\n",
    "            gc.collect()\n",
    "    return latent_preds, test_latent_preds"
   ]
  },
  {
   "cell_type": "code",
   "execution_count": 11,
   "id": "800ebb5f-31d4-4c49-95d0-22880cbc17d4",
   "metadata": {},
   "outputs": [
    {
     "name": "stderr",
     "output_type": "stream",
     "text": [
      "2021-10-30 14:27:30.492988: I tensorflow/core/platform/cpu_feature_guard.cc:142] This TensorFlow binary is optimized with oneAPI Deep Neural Network Library (oneDNN) to use the following CPU instructions in performance-critical operations:  AVX2 AVX512F FMA\n",
      "To enable them in other operations, rebuild TensorFlow with the appropriate compiler flags.\n",
      "2021-10-30 14:27:31.986695: I tensorflow/core/common_runtime/gpu/gpu_device.cc:1510] Created device /job:localhost/replica:0/task:0/device:GPU:0 with 21746 MB memory:  -> device: 0, name: NVIDIA Tesla V100-PCIE-32GB, pci bus id: 0000:5e:00.0, compute capability: 7.0\n",
      "2021-10-30 14:27:31.987926: I tensorflow/core/common_runtime/gpu/gpu_device.cc:1510] Created device /job:localhost/replica:0/task:0/device:GPU:1 with 30538 MB memory:  -> device: 1, name: NVIDIA Tesla V100-PCIE-32GB, pci bus id: 0000:86:00.0, compute capability: 7.0\n",
      "2021-10-30 14:27:31.988977: I tensorflow/core/common_runtime/gpu/gpu_device.cc:1510] Created device /job:localhost/replica:0/task:0/device:GPU:2 with 30538 MB memory:  -> device: 2, name: NVIDIA Tesla V100-PCIE-32GB, pci bus id: 0000:d8:00.0, compute capability: 7.0\n"
     ]
    },
    {
     "name": "stdout",
     "output_type": "stream",
     "text": [
      "--------------- > Fold 1 < ---------------\n"
     ]
    },
    {
     "name": "stderr",
     "output_type": "stream",
     "text": [
      "2021-10-30 14:27:34.822689: I tensorflow/compiler/mlir/mlir_graph_optimization_pass.cc:185] None of the MLIR Optimization Passes are enabled (registered 2)\n",
      "2021-10-30 14:27:36.805048: I tensorflow/stream_executor/cuda/cuda_dnn.cc:369] Loaded cuDNN version 8202\n"
     ]
    },
    {
     "name": "stdout",
     "output_type": "stream",
     "text": [
      "--------------- > Fold 2 < ---------------\n",
      "--------------- > Fold 3 < ---------------\n",
      "--------------- > Fold 4 < ---------------\n",
      "--------------- > Fold 5 < ---------------\n",
      "--------------- > Fold 6 < ---------------\n",
      "--------------- > Fold 7 < ---------------\n",
      "--------------- > Fold 8 < ---------------\n",
      "--------------- > Fold 9 < ---------------\n",
      "--------------- > Fold 10 < ---------------\n"
     ]
    }
   ],
   "source": [
    "latent_preds, test_latent_preds = inference()"
   ]
  },
  {
   "cell_type": "code",
   "execution_count": 12,
   "id": "9da38bc7-ebf7-4e8b-bfd5-093bf5e4f6c5",
   "metadata": {},
   "outputs": [],
   "source": [
    "savedir = logdir / \"lstm-less-addfeatures-cut-large-custom-mae\"\n",
    "\n",
    "np.save(str(savedir / \"valid_latent_feature\"), latent_preds)\n",
    "np.savez(str(savedir / \"test_latent_feature\"), *test_latent_preds)"
   ]
  },
  {
   "cell_type": "code",
   "execution_count": null,
   "id": "608e993e-cc1e-44f6-840f-9716c44cad80",
   "metadata": {},
   "outputs": [],
   "source": []
  }
 ],
 "metadata": {
  "kernelspec": {
   "display_name": "Python 3 (ipykernel)",
   "language": "python",
   "name": "python3"
  },
  "language_info": {
   "codemirror_mode": {
    "name": "ipython",
    "version": 3
   },
   "file_extension": ".py",
   "mimetype": "text/x-python",
   "name": "python",
   "nbconvert_exporter": "python",
   "pygments_lexer": "ipython3",
   "version": "3.9.0"
  }
 },
 "nbformat": 4,
 "nbformat_minor": 5
}
