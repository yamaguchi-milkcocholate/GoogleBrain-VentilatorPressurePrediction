{
 "cells": [
  {
   "cell_type": "code",
   "execution_count": 1,
   "id": "a723a538-cf74-4fe4-9165-65e337fb7afa",
   "metadata": {},
   "outputs": [],
   "source": [
    "import pandas as pd\n",
    "import numpy as np\n",
    "from pathlib import Path\n",
    "pd.options.display.max_rows = 100\n",
    "pd.options.display.max_columns = 100"
   ]
  },
  {
   "cell_type": "code",
   "execution_count": 9,
   "id": "03c4841d-4d99-4dca-9f00-f3b25341970d",
   "metadata": {},
   "outputs": [],
   "source": [
    "basedir = Path().resolve().parent\n",
    "logdir = basedir / 'logs'\n",
    "datadir = basedir / 'data'"
   ]
  },
  {
   "cell_type": "code",
   "execution_count": 3,
   "id": "3faf9249-0584-4ba7-b4b4-2e4aa74bb30b",
   "metadata": {},
   "outputs": [
    {
     "name": "stderr",
     "output_type": "stream",
     "text": [
      "/home/yamaguchi-milkcocholate/.local/share/virtualenvs/GoogleBrain-VentilatorPressurePrediction-QG-B7qSz/lib/python3.9/site-packages/numpy/lib/arraysetops.py:580: FutureWarning: elementwise comparison failed; returning scalar instead, but in the future will perform elementwise comparison\n",
      "  mask |= (ar1 == a)\n"
     ]
    },
    {
     "data": {
      "text/html": [
       "<div>\n",
       "<style scoped>\n",
       "    .dataframe tbody tr th:only-of-type {\n",
       "        vertical-align: middle;\n",
       "    }\n",
       "\n",
       "    .dataframe tbody tr th {\n",
       "        vertical-align: top;\n",
       "    }\n",
       "\n",
       "    .dataframe thead th {\n",
       "        text-align: right;\n",
       "    }\n",
       "</style>\n",
       "<table border=\"1\" class=\"dataframe\">\n",
       "  <thead>\n",
       "    <tr style=\"text-align: right;\">\n",
       "      <th></th>\n",
       "      <th>id</th>\n",
       "      <th>breath_id</th>\n",
       "      <th>R</th>\n",
       "      <th>C</th>\n",
       "      <th>time_step</th>\n",
       "      <th>u_in</th>\n",
       "      <th>u_out</th>\n",
       "      <th>pressure</th>\n",
       "      <th>RC</th>\n",
       "      <th>kfold</th>\n",
       "    </tr>\n",
       "  </thead>\n",
       "  <tbody>\n",
       "    <tr>\n",
       "      <th>0</th>\n",
       "      <td>1</td>\n",
       "      <td>1</td>\n",
       "      <td>20</td>\n",
       "      <td>50</td>\n",
       "      <td>0.000000</td>\n",
       "      <td>0.083334</td>\n",
       "      <td>0</td>\n",
       "      <td>5.837492</td>\n",
       "      <td>20_50</td>\n",
       "      <td>1</td>\n",
       "    </tr>\n",
       "    <tr>\n",
       "      <th>1</th>\n",
       "      <td>2</td>\n",
       "      <td>1</td>\n",
       "      <td>20</td>\n",
       "      <td>50</td>\n",
       "      <td>0.033652</td>\n",
       "      <td>18.383041</td>\n",
       "      <td>0</td>\n",
       "      <td>5.907794</td>\n",
       "      <td>20_50</td>\n",
       "      <td>1</td>\n",
       "    </tr>\n",
       "    <tr>\n",
       "      <th>2</th>\n",
       "      <td>3</td>\n",
       "      <td>1</td>\n",
       "      <td>20</td>\n",
       "      <td>50</td>\n",
       "      <td>0.067514</td>\n",
       "      <td>22.509278</td>\n",
       "      <td>0</td>\n",
       "      <td>7.876254</td>\n",
       "      <td>20_50</td>\n",
       "      <td>1</td>\n",
       "    </tr>\n",
       "    <tr>\n",
       "      <th>3</th>\n",
       "      <td>4</td>\n",
       "      <td>1</td>\n",
       "      <td>20</td>\n",
       "      <td>50</td>\n",
       "      <td>0.101542</td>\n",
       "      <td>22.808822</td>\n",
       "      <td>0</td>\n",
       "      <td>11.742872</td>\n",
       "      <td>20_50</td>\n",
       "      <td>1</td>\n",
       "    </tr>\n",
       "    <tr>\n",
       "      <th>4</th>\n",
       "      <td>5</td>\n",
       "      <td>1</td>\n",
       "      <td>20</td>\n",
       "      <td>50</td>\n",
       "      <td>0.135756</td>\n",
       "      <td>25.355850</td>\n",
       "      <td>0</td>\n",
       "      <td>12.234987</td>\n",
       "      <td>20_50</td>\n",
       "      <td>1</td>\n",
       "    </tr>\n",
       "  </tbody>\n",
       "</table>\n",
       "</div>"
      ],
      "text/plain": [
       "   id  breath_id   R   C  time_step       u_in  u_out   pressure     RC  kfold\n",
       "0   1          1  20  50   0.000000   0.083334      0   5.837492  20_50      1\n",
       "1   2          1  20  50   0.033652  18.383041      0   5.907794  20_50      1\n",
       "2   3          1  20  50   0.067514  22.509278      0   7.876254  20_50      1\n",
       "3   4          1  20  50   0.101542  22.808822      0  11.742872  20_50      1\n",
       "4   5          1  20  50   0.135756  25.355850      0  12.234987  20_50      1"
      ]
     },
     "execution_count": 3,
     "metadata": {},
     "output_type": "execute_result"
    }
   ],
   "source": [
    "train = pd.read_csv(datadir / 'train_RC_kfold5_seed42.csv', index_col=0)\n",
    "train.head()"
   ]
  },
  {
   "cell_type": "code",
   "execution_count": 5,
   "id": "9e143a56-9382-4ef9-9763-e6df569be790",
   "metadata": {},
   "outputs": [],
   "source": [
    "bids = train.breath_id.unique()\n",
    "train_pressure = pd.DataFrame({'breath_id': bids})\n",
    "train_pressure[np.arange(80)] = train.pressure.values.reshape(-1, 80)\n",
    "train_out = pd.DataFrame({'breath_id': bids})\n",
    "train_out[np.arange(80)] = train.u_out.values.reshape(-1, 80)"
   ]
  },
  {
   "cell_type": "code",
   "execution_count": 21,
   "id": "91261308-6c03-4ca9-838b-89d329e904bf",
   "metadata": {},
   "outputs": [],
   "source": [
    "def create_mae(save_folder):\n",
    "    valid_preds = pd.read_csv(logdir / save_folder / 'valid_preds.csv', index_col=0)\n",
    "    valid_preds['breath_id'] = bids\n",
    "    \n",
    "    records = {'breath_id': bids, 'mae': []}\n",
    "    for i, (y_true, y_pred, u_out) in enumerate(zip(\n",
    "        train_pressure.values[:, 1:],\n",
    "        valid_preds.values[:, 1:],\n",
    "        train_out.values[:, 1:])):\n",
    "        \n",
    "        mae = ((1 - u_out) * np.abs(y_true - y_pred)).sum()\n",
    "        mae /= np.sum(1 - u_out)\n",
    "        \n",
    "        records['mae'].append(mae)\n",
    "    mae_df = pd.DataFrame(records)\n",
    "    return mae_df"
   ]
  },
  {
   "cell_type": "code",
   "execution_count": 22,
   "id": "9dc0dc9a-34cb-4f45-b7e5-c3840867e86d",
   "metadata": {},
   "outputs": [],
   "source": [
    "mae_df = create_mae('lstm-less-addfeatures')\n"
   ]
  },
  {
   "cell_type": "code",
   "execution_count": 28,
   "id": "f5beecfe-feef-4a6b-8179-3d71bf294771",
   "metadata": {},
   "outputs": [
    {
     "data": {
      "text/plain": [
       "1"
      ]
     },
     "execution_count": 28,
     "metadata": {},
     "output_type": "execute_result"
    }
   ],
   "source": [
    "['a', 'b', 'c'].index('b')"
   ]
  },
  {
   "cell_type": "code",
   "execution_count": 26,
   "id": "9bf14c42-9365-4163-9b5e-4b05d174c6dd",
   "metadata": {},
   "outputs": [
    {
     "data": {
      "text/plain": [
       "<AxesSubplot:>"
      ]
     },
     "execution_count": 26,
     "metadata": {},
     "output_type": "execute_result"
    },
    {
     "data": {
      "image/png": "[encoded data removed]",
      "text/plain": [
       "<Figure size 432x288 with 1 Axes>"
      ]
     },
     "metadata": {
      "needs_background": "light"
     },
     "output_type": "display_data"
    }
   ],
   "source": [
    "mae_df.mae.hist()"
   ]
  },
  {
   "cell_type": "code",
   "execution_count": 25,
   "id": "d2f696f5-4ce8-495d-934b-bfd58f4b81f4",
   "metadata": {},
   "outputs": [
    {
     "data": {
      "text/plain": [
       "1.4225576505853597"
      ]
     },
     "execution_count": 25,
     "metadata": {},
     "output_type": "execute_result"
    }
   ],
   "source": [
    "mae_df.mae.mean()"
   ]
  }
 ],
 "metadata": {
  "kernelspec": {
   "display_name": "Python 3 (ipykernel)",
   "language": "python",
   "name": "python3"
  },
  "language_info": {
   "codemirror_mode": {
    "name": "ipython",
    "version": 3
   },
   "file_extension": ".py",
   "mimetype": "text/x-python",
   "name": "python",
   "nbconvert_exporter": "python",
   "pygments_lexer": "ipython3",
   "version": "3.9.0"
  }
 },
 "nbformat": 4,
 "nbformat_minor": 5
}
