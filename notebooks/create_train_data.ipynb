{
 "cells": [
  {
   "cell_type": "code",
   "execution_count": 4,
   "id": "1c23357f-bd1c-4f6f-a793-0432d4668b56",
   "metadata": {},
   "outputs": [],
   "source": [
    "import pandas as pd\n",
    "import numpy as np\n",
    "from pathlib import Path\n",
    "from matplotlib import pyplot as plt\n",
    "from sklearn.model_selection import KFold\n",
    "pd.options.display.max_rows = 100\n",
    "pd.options.display.max_columns = 100"
   ]
  },
  {
   "cell_type": "code",
   "execution_count": 2,
   "id": "52501b25-35c5-4cda-912f-a64d4d803461",
   "metadata": {},
   "outputs": [],
   "source": [
    "basedir = Path().resolve().parent\n",
    "datadir = basedir / 'data'"
   ]
  },
  {
   "cell_type": "code",
   "execution_count": 18,
   "id": "3fd18226-d56b-457f-9229-2bb89e26d9ec",
   "metadata": {},
   "outputs": [
    {
     "data": {
      "text/html": [
       "<div>\n",
       "<style scoped>\n",
       "    .dataframe tbody tr th:only-of-type {\n",
       "        vertical-align: middle;\n",
       "    }\n",
       "\n",
       "    .dataframe tbody tr th {\n",
       "        vertical-align: top;\n",
       "    }\n",
       "\n",
       "    .dataframe thead th {\n",
       "        text-align: right;\n",
       "    }\n",
       "</style>\n",
       "<table border=\"1\" class=\"dataframe\">\n",
       "  <thead>\n",
       "    <tr style=\"text-align: right;\">\n",
       "      <th></th>\n",
       "      <th>id</th>\n",
       "      <th>breath_id</th>\n",
       "      <th>R</th>\n",
       "      <th>C</th>\n",
       "      <th>time_step</th>\n",
       "      <th>u_in</th>\n",
       "      <th>u_out</th>\n",
       "      <th>pressure</th>\n",
       "      <th>RC</th>\n",
       "    </tr>\n",
       "  </thead>\n",
       "  <tbody>\n",
       "    <tr>\n",
       "      <th>0</th>\n",
       "      <td>1</td>\n",
       "      <td>1</td>\n",
       "      <td>20</td>\n",
       "      <td>50</td>\n",
       "      <td>0.000000</td>\n",
       "      <td>0.083334</td>\n",
       "      <td>0</td>\n",
       "      <td>5.837492</td>\n",
       "      <td>20_50</td>\n",
       "    </tr>\n",
       "    <tr>\n",
       "      <th>1</th>\n",
       "      <td>2</td>\n",
       "      <td>1</td>\n",
       "      <td>20</td>\n",
       "      <td>50</td>\n",
       "      <td>0.033652</td>\n",
       "      <td>18.383041</td>\n",
       "      <td>0</td>\n",
       "      <td>5.907794</td>\n",
       "      <td>20_50</td>\n",
       "    </tr>\n",
       "    <tr>\n",
       "      <th>2</th>\n",
       "      <td>3</td>\n",
       "      <td>1</td>\n",
       "      <td>20</td>\n",
       "      <td>50</td>\n",
       "      <td>0.067514</td>\n",
       "      <td>22.509278</td>\n",
       "      <td>0</td>\n",
       "      <td>7.876254</td>\n",
       "      <td>20_50</td>\n",
       "    </tr>\n",
       "    <tr>\n",
       "      <th>3</th>\n",
       "      <td>4</td>\n",
       "      <td>1</td>\n",
       "      <td>20</td>\n",
       "      <td>50</td>\n",
       "      <td>0.101542</td>\n",
       "      <td>22.808822</td>\n",
       "      <td>0</td>\n",
       "      <td>11.742872</td>\n",
       "      <td>20_50</td>\n",
       "    </tr>\n",
       "    <tr>\n",
       "      <th>4</th>\n",
       "      <td>5</td>\n",
       "      <td>1</td>\n",
       "      <td>20</td>\n",
       "      <td>50</td>\n",
       "      <td>0.135756</td>\n",
       "      <td>25.355850</td>\n",
       "      <td>0</td>\n",
       "      <td>12.234987</td>\n",
       "      <td>20_50</td>\n",
       "    </tr>\n",
       "  </tbody>\n",
       "</table>\n",
       "</div>"
      ],
      "text/plain": [
       "   id  breath_id   R   C  time_step       u_in  u_out   pressure     RC\n",
       "0   1          1  20  50   0.000000   0.083334      0   5.837492  20_50\n",
       "1   2          1  20  50   0.033652  18.383041      0   5.907794  20_50\n",
       "2   3          1  20  50   0.067514  22.509278      0   7.876254  20_50\n",
       "3   4          1  20  50   0.101542  22.808822      0  11.742872  20_50\n",
       "4   5          1  20  50   0.135756  25.355850      0  12.234987  20_50"
      ]
     },
     "execution_count": 18,
     "metadata": {},
     "output_type": "execute_result"
    }
   ],
   "source": [
    "train = pd.read_csv(datadir / 'train.csv')\n",
    "train[\"RC\"] = train[\"R\"].astype(str) + '_' + train[\"C\"].astype(str)\n",
    "train.head()"
   ]
  },
  {
   "cell_type": "code",
   "execution_count": 19,
   "id": "da2ee5eb-d1ff-4085-9a27-8e83b5340eee",
   "metadata": {},
   "outputs": [],
   "source": [
    "RC_types = train.RC.unique()\n",
    "train[\"kfold\"] = -1\n",
    "\n",
    "SEED = 42\n",
    "N_SPLITS = 5\n",
    "\n",
    "for RC_type in RC_types:\n",
    "    breath_ids = train[train[\"RC\"] == RC_type].breath_id.unique()\n",
    "    kf = KFold(n_splits=N_SPLITS, shuffle=True, random_state=SEED)\n",
    "    \n",
    "    for fold, (_, test_idx) in enumerate(kf.split(breath_ids)):\n",
    "        valid_breath_ids = breath_ids[test_idx]\n",
    "        train.loc[train[\"breath_id\"].isin(valid_breath_ids), \"kfold\"] = fold"
   ]
  },
  {
   "cell_type": "code",
   "execution_count": 24,
   "id": "ef33f910-6ad8-4f4a-99b6-6811880fb16d",
   "metadata": {},
   "outputs": [],
   "source": [
    "train.to_csv(datadir / f\"train_RC_kfold{N_SPLITS}_seed{SEED}.csv\")"
   ]
  }
 ],
 "metadata": {
  "kernelspec": {
   "display_name": "Python 3 (ipykernel)",
   "language": "python",
   "name": "python3"
  },
  "language_info": {
   "codemirror_mode": {
    "name": "ipython",
    "version": 3
   },
   "file_extension": ".py",
   "mimetype": "text/x-python",
   "name": "python",
   "nbconvert_exporter": "python",
   "pygments_lexer": "ipython3",
   "version": "3.9.0"
  }
 },
 "nbformat": 4,
 "nbformat_minor": 5
}
