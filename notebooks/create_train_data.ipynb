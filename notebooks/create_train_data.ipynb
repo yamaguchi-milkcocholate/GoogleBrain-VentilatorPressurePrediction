{
 "cells": [
  {
   "cell_type": "code",
   "execution_count": 1,
   "id": "1c23357f-bd1c-4f6f-a793-0432d4668b56",
   "metadata": {},
   "outputs": [],
   "source": [
    "import pandas as pd\n",
    "import numpy as np\n",
    "from pathlib import Path\n",
    "from matplotlib import pyplot as plt\n",
    "from sklearn.model_selection import KFold\n",
    "pd.options.display.max_rows = 100\n",
    "pd.options.display.max_columns = 100"
   ]
  },
  {
   "cell_type": "code",
   "execution_count": 2,
   "id": "52501b25-35c5-4cda-912f-a64d4d803461",
   "metadata": {},
   "outputs": [],
   "source": [
    "basedir = Path().resolve().parent\n",
    "datadir = basedir / 'data'"
   ]
  },
  {
   "cell_type": "code",
   "execution_count": 3,
   "id": "3fd18226-d56b-457f-9229-2bb89e26d9ec",
   "metadata": {},
   "outputs": [
    {
     "data": {
      "text/html": [
       "<div>\n",
       "<style scoped>\n",
       "    .dataframe tbody tr th:only-of-type {\n",
       "        vertical-align: middle;\n",
       "    }\n",
       "\n",
       "    .dataframe tbody tr th {\n",
       "        vertical-align: top;\n",
       "    }\n",
       "\n",
       "    .dataframe thead th {\n",
       "        text-align: right;\n",
       "    }\n",
       "</style>\n",
       "<table border=\"1\" class=\"dataframe\">\n",
       "  <thead>\n",
       "    <tr style=\"text-align: right;\">\n",
       "      <th></th>\n",
       "      <th>id</th>\n",
       "      <th>breath_id</th>\n",
       "      <th>R</th>\n",
       "      <th>C</th>\n",
       "      <th>time_step</th>\n",
       "      <th>u_in</th>\n",
       "      <th>u_out</th>\n",
       "      <th>pressure</th>\n",
       "      <th>RC</th>\n",
       "    </tr>\n",
       "  </thead>\n",
       "  <tbody>\n",
       "    <tr>\n",
       "      <th>0</th>\n",
       "      <td>1</td>\n",
       "      <td>1</td>\n",
       "      <td>20</td>\n",
       "      <td>50</td>\n",
       "      <td>0.000000</td>\n",
       "      <td>0.083334</td>\n",
       "      <td>0</td>\n",
       "      <td>5.837492</td>\n",
       "      <td>20_50</td>\n",
       "    </tr>\n",
       "    <tr>\n",
       "      <th>1</th>\n",
       "      <td>2</td>\n",
       "      <td>1</td>\n",
       "      <td>20</td>\n",
       "      <td>50</td>\n",
       "      <td>0.033652</td>\n",
       "      <td>18.383041</td>\n",
       "      <td>0</td>\n",
       "      <td>5.907794</td>\n",
       "      <td>20_50</td>\n",
       "    </tr>\n",
       "    <tr>\n",
       "      <th>2</th>\n",
       "      <td>3</td>\n",
       "      <td>1</td>\n",
       "      <td>20</td>\n",
       "      <td>50</td>\n",
       "      <td>0.067514</td>\n",
       "      <td>22.509278</td>\n",
       "      <td>0</td>\n",
       "      <td>7.876254</td>\n",
       "      <td>20_50</td>\n",
       "    </tr>\n",
       "    <tr>\n",
       "      <th>3</th>\n",
       "      <td>4</td>\n",
       "      <td>1</td>\n",
       "      <td>20</td>\n",
       "      <td>50</td>\n",
       "      <td>0.101542</td>\n",
       "      <td>22.808822</td>\n",
       "      <td>0</td>\n",
       "      <td>11.742872</td>\n",
       "      <td>20_50</td>\n",
       "    </tr>\n",
       "    <tr>\n",
       "      <th>4</th>\n",
       "      <td>5</td>\n",
       "      <td>1</td>\n",
       "      <td>20</td>\n",
       "      <td>50</td>\n",
       "      <td>0.135756</td>\n",
       "      <td>25.355850</td>\n",
       "      <td>0</td>\n",
       "      <td>12.234987</td>\n",
       "      <td>20_50</td>\n",
       "    </tr>\n",
       "  </tbody>\n",
       "</table>\n",
       "</div>"
      ],
      "text/plain": [
       "   id  breath_id   R   C  time_step       u_in  u_out   pressure     RC\n",
       "0   1          1  20  50   0.000000   0.083334      0   5.837492  20_50\n",
       "1   2          1  20  50   0.033652  18.383041      0   5.907794  20_50\n",
       "2   3          1  20  50   0.067514  22.509278      0   7.876254  20_50\n",
       "3   4          1  20  50   0.101542  22.808822      0  11.742872  20_50\n",
       "4   5          1  20  50   0.135756  25.355850      0  12.234987  20_50"
      ]
     },
     "execution_count": 3,
     "metadata": {},
     "output_type": "execute_result"
    }
   ],
   "source": [
    "train = pd.read_csv(datadir / 'train.csv')\n",
    "train[\"RC\"] = train[\"R\"].astype(str) + '_' + train[\"C\"].astype(str)\n",
    "train.head()"
   ]
  },
  {
   "cell_type": "code",
   "execution_count": 5,
   "id": "49516931-bd99-4dd1-aaa1-7e635168bc17",
   "metadata": {},
   "outputs": [],
   "source": [
    "train[\"kfold\"] = -1\n",
    "\n",
    "SEED = 42\n",
    "N_SPLITS = 10\n",
    "\n",
    "bids = train.breath_id.unique()\n",
    "\n",
    "kf = KFold(n_splits=N_SPLITS, shuffle=True, random_state=SEED)\n",
    "\n",
    "for fold, (_, valid_idx) in enumerate(kf.split(bids)):\n",
    "    valid_bids = bids[valid_idx]\n",
    "    train.loc[train[\"breath_id\"].isin(valid_bids), \"kfold\"] = fold"
   ]
  },
  {
   "cell_type": "code",
   "execution_count": 9,
   "id": "ef33f910-6ad8-4f4a-99b6-6811880fb16d",
   "metadata": {},
   "outputs": [],
   "source": [
    "train.to_csv(datadir / f\"train_RC_kfold{N_SPLITS}_seed{SEED}.csv\")"
   ]
  },
  {
   "cell_type": "code",
   "execution_count": 16,
   "id": "72f46034-4c87-4cca-872c-f54aa85f2b3c",
   "metadata": {},
   "outputs": [],
   "source": [
    "u_outs = (1 - train.u_out.values.reshape(-1, 80))\n",
    "insp_lens = u_outs.sum(axis=1)"
   ]
  },
  {
   "cell_type": "code",
   "execution_count": 17,
   "id": "22be8f21-540c-4b5b-8473-1707b4c0716f",
   "metadata": {},
   "outputs": [
    {
     "data": {
      "text/plain": [
       "(array([1.0000e+01, 3.0000e+00, 0.0000e+00, 0.0000e+00, 1.2300e+02,\n",
       "        2.2803e+04, 0.0000e+00, 1.8260e+04, 1.7923e+04, 1.6328e+04]),\n",
       " array([25. , 25.7, 26.4, 27.1, 27.8, 28.5, 29.2, 29.9, 30.6, 31.3, 32. ]),\n",
       " <BarContainer object of 10 artists>)"
      ]
     },
     "execution_count": 17,
     "metadata": {},
     "output_type": "execute_result"
    },
    {
     "data": {
      "image/png": "[encoded data removed]",
      "text/plain": [
       "<Figure size 432x288 with 1 Axes>"
      ]
     },
     "metadata": {
      "needs_background": "light"
     },
     "output_type": "display_data"
    }
   ],
   "source": [
    "plt.hist(insp_lens)"
   ]
  },
  {
   "cell_type": "code",
   "execution_count": 18,
   "id": "392fd6b2-38f5-4ca4-8abe-953e3111fa4c",
   "metadata": {},
   "outputs": [],
   "source": [
    "test = pd.read_csv(datadir / 'test.csv')"
   ]
  },
  {
   "cell_type": "code",
   "execution_count": 19,
   "id": "a9c63788-6770-4f93-9ce9-6cb4be7bfd06",
   "metadata": {},
   "outputs": [
    {
     "data": {
      "text/plain": [
       "(array([3.0000e+00, 0.0000e+00, 0.0000e+00, 0.0000e+00, 8.5000e+01,\n",
       "        1.5137e+04, 0.0000e+00, 1.2171e+04, 1.1921e+04, 1.0983e+04]),\n",
       " array([25. , 25.7, 26.4, 27.1, 27.8, 28.5, 29.2, 29.9, 30.6, 31.3, 32. ]),\n",
       " <BarContainer object of 10 artists>)"
      ]
     },
     "execution_count": 19,
     "metadata": {},
     "output_type": "execute_result"
    },
    {
     "data": {
      "image/png": "[encoded data removed]",
      "text/plain": [
       "<Figure size 432x288 with 1 Axes>"
      ]
     },
     "metadata": {
      "needs_background": "light"
     },
     "output_type": "display_data"
    }
   ],
   "source": [
    "u_outs = (1 - test.u_out.values.reshape(-1, 80))\n",
    "insp_lens = u_outs.sum(axis=1)\n",
    "\n",
    "plt.hist(insp_lens)"
   ]
  },
  {
   "cell_type": "code",
   "execution_count": 34,
   "id": "152c0936-665b-44b6-ad83-3fa56fd34e28",
   "metadata": {},
   "outputs": [],
   "source": [
    "train[\"count\"] = (np.arange(train.shape[0]) % 80).astype(int)"
   ]
  },
  {
   "cell_type": "code",
   "execution_count": null,
   "id": "9236fc8e-69dd-4cf0-8ef4-41f4dc371681",
   "metadata": {},
   "outputs": [],
   "source": []
  }
 ],
 "metadata": {
  "kernelspec": {
   "display_name": "Python 3 (ipykernel)",
   "language": "python",
   "name": "python3"
  },
  "language_info": {
   "codemirror_mode": {
    "name": "ipython",
    "version": 3
   },
   "file_extension": ".py",
   "mimetype": "text/x-python",
   "name": "python",
   "nbconvert_exporter": "python",
   "pygments_lexer": "ipython3",
   "version": "3.9.0"
  }
 },
 "nbformat": 4,
 "nbformat_minor": 5
}
