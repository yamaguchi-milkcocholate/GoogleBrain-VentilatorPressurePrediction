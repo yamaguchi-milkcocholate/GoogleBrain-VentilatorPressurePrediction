{
 "cells": [
  {
   "cell_type": "code",
   "execution_count": 2,
   "id": "7c220581-fa44-4151-87ba-143486ce9491",
   "metadata": {},
   "outputs": [],
   "source": [
    "import numpy as np\n",
    "import pandas as pd\n",
    "from pathlib import Path\n",
    "import warnings\n",
    "import sys\n",
    "import json\n",
    "import gc\n",
    "from matplotlib import pyplot as plt\n",
    "\n",
    "warnings.simplefilter('ignore')"
   ]
  },
  {
   "cell_type": "code",
   "execution_count": 3,
   "id": "ce210988-9222-4c72-8330-a7d55b21fd2a",
   "metadata": {},
   "outputs": [],
   "source": [
    "basedir = Path().resolve().parent\n",
    "logdir = basedir / \"logs\"\n",
    "datadir = basedir / \"data\""
   ]
  },
  {
   "cell_type": "code",
   "execution_count": 4,
   "id": "96bd5f83-8bd7-489f-9e0e-835e6f9681d8",
   "metadata": {},
   "outputs": [
    {
     "data": {
      "text/html": [
       "<div>\n",
       "<style scoped>\n",
       "    .dataframe tbody tr th:only-of-type {\n",
       "        vertical-align: middle;\n",
       "    }\n",
       "\n",
       "    .dataframe tbody tr th {\n",
       "        vertical-align: top;\n",
       "    }\n",
       "\n",
       "    .dataframe thead th {\n",
       "        text-align: right;\n",
       "    }\n",
       "</style>\n",
       "<table border=\"1\" class=\"dataframe\">\n",
       "  <thead>\n",
       "    <tr style=\"text-align: right;\">\n",
       "      <th></th>\n",
       "      <th>id</th>\n",
       "      <th>breath_id</th>\n",
       "      <th>R</th>\n",
       "      <th>C</th>\n",
       "      <th>time_step</th>\n",
       "      <th>u_in</th>\n",
       "      <th>u_out</th>\n",
       "      <th>pressure</th>\n",
       "      <th>RC</th>\n",
       "      <th>kfold</th>\n",
       "    </tr>\n",
       "  </thead>\n",
       "  <tbody>\n",
       "    <tr>\n",
       "      <th>0</th>\n",
       "      <td>1</td>\n",
       "      <td>1</td>\n",
       "      <td>20</td>\n",
       "      <td>50</td>\n",
       "      <td>0.000000</td>\n",
       "      <td>0.083334</td>\n",
       "      <td>0</td>\n",
       "      <td>5.837492</td>\n",
       "      <td>20_50</td>\n",
       "      <td>4</td>\n",
       "    </tr>\n",
       "    <tr>\n",
       "      <th>1</th>\n",
       "      <td>2</td>\n",
       "      <td>1</td>\n",
       "      <td>20</td>\n",
       "      <td>50</td>\n",
       "      <td>0.033652</td>\n",
       "      <td>18.383041</td>\n",
       "      <td>0</td>\n",
       "      <td>5.907794</td>\n",
       "      <td>20_50</td>\n",
       "      <td>4</td>\n",
       "    </tr>\n",
       "    <tr>\n",
       "      <th>2</th>\n",
       "      <td>3</td>\n",
       "      <td>1</td>\n",
       "      <td>20</td>\n",
       "      <td>50</td>\n",
       "      <td>0.067514</td>\n",
       "      <td>22.509278</td>\n",
       "      <td>0</td>\n",
       "      <td>7.876254</td>\n",
       "      <td>20_50</td>\n",
       "      <td>4</td>\n",
       "    </tr>\n",
       "    <tr>\n",
       "      <th>3</th>\n",
       "      <td>4</td>\n",
       "      <td>1</td>\n",
       "      <td>20</td>\n",
       "      <td>50</td>\n",
       "      <td>0.101542</td>\n",
       "      <td>22.808822</td>\n",
       "      <td>0</td>\n",
       "      <td>11.742872</td>\n",
       "      <td>20_50</td>\n",
       "      <td>4</td>\n",
       "    </tr>\n",
       "    <tr>\n",
       "      <th>4</th>\n",
       "      <td>5</td>\n",
       "      <td>1</td>\n",
       "      <td>20</td>\n",
       "      <td>50</td>\n",
       "      <td>0.135756</td>\n",
       "      <td>25.355850</td>\n",
       "      <td>0</td>\n",
       "      <td>12.234987</td>\n",
       "      <td>20_50</td>\n",
       "      <td>4</td>\n",
       "    </tr>\n",
       "  </tbody>\n",
       "</table>\n",
       "</div>"
      ],
      "text/plain": [
       "   id  breath_id   R   C  time_step       u_in  u_out   pressure     RC  kfold\n",
       "0   1          1  20  50   0.000000   0.083334      0   5.837492  20_50      4\n",
       "1   2          1  20  50   0.033652  18.383041      0   5.907794  20_50      4\n",
       "2   3          1  20  50   0.067514  22.509278      0   7.876254  20_50      4\n",
       "3   4          1  20  50   0.101542  22.808822      0  11.742872  20_50      4\n",
       "4   5          1  20  50   0.135756  25.355850      0  12.234987  20_50      4"
      ]
     },
     "execution_count": 4,
     "metadata": {},
     "output_type": "execute_result"
    }
   ],
   "source": [
    "train = pd.read_csv(datadir / \"train_RC_kfold10_seed42.csv\", index_col=0)\n",
    "train = train[(np.arange(train.shape[0]) % 80) < 35].reset_index(drop=True)\n",
    "train.head()"
   ]
  },
  {
   "cell_type": "code",
   "execution_count": 5,
   "id": "b486cfae-db0b-4950-bffd-9842c71c492f",
   "metadata": {},
   "outputs": [
    {
     "name": "stdout",
     "output_type": "stream",
     "text": [
      "Min pressure: -1.8957443237304688\n",
      "Max pressure: 64.82099151611328\n",
      "Pressure step: 0.07030248641967773\n",
      "Unique values:  950\n"
     ]
    },
    {
     "data": {
      "text/plain": [
       "18"
      ]
     },
     "execution_count": 5,
     "metadata": {},
     "output_type": "execute_result"
    }
   ],
   "source": [
    "pressure = train.pressure.values.squeeze().reshape(-1,1).astype('float32')\n",
    "P_MIN = np.min(pressure)\n",
    "P_MAX = np.max(pressure)\n",
    "P_STEP = (pressure[1] - pressure[0])[0]\n",
    "print('Min pressure: {}'.format(P_MIN))\n",
    "print('Max pressure: {}'.format(P_MAX))\n",
    "print('Pressure step: {}'.format(P_STEP))\n",
    "print('Unique values:  {}'.format(np.unique(pressure).shape[0]))\n",
    "\n",
    "del pressure\n",
    "gc.collect()"
   ]
  },
  {
   "cell_type": "code",
   "execution_count": 6,
   "id": "22f054bf-05e6-40dc-847c-5994ea39e641",
   "metadata": {},
   "outputs": [],
   "source": [
    "def score(y_true, y_pred, u_out):\n",
    "    mae = (1 - u_out) * np.abs(y_true - y_pred)\n",
    "    mae = np.sum(mae) / np.sum(1 - u_out)\n",
    "    return mae\n",
    "\n",
    "\n",
    "def do_stair(y):\n",
    "    y = np.round((y - P_MIN) / P_STEP) * P_STEP + P_MIN\n",
    "    y = np.clip(y, P_MIN, P_MAX)\n",
    "    return y"
   ]
  },
  {
   "cell_type": "code",
   "execution_count": 7,
   "id": "6c2758e4-9509-43c6-9398-1ecd8e36968e",
   "metadata": {},
   "outputs": [],
   "source": [
    "expts = [\n",
    "    \"custom2\", \"lstm-batchnorm\", \"lstm-less-addfeatures-cut-large-custom-mae\",\n",
    "    \"lstm-less-addfeatures-cut-large-custom-mae\", \"lstm-notcut\",\n",
    "    \"lstm-rcpred\", \"lstm-reliable\", \"lstm-soft\", \"lstm-soft-fullconnect\",\n",
    "    \"lstm-soft-rc\", \"lstm-soft-fullconnect-dropout\"\n",
    "]"
   ]
  },
  {
   "cell_type": "code",
   "execution_count": 8,
   "id": "8e9389fb-fe1c-453d-804b-06ec24d4a28a",
   "metadata": {},
   "outputs": [],
   "source": [
    "valid_preds = []\n",
    "cols = [str(i) for i in range(35)]\n",
    "\n",
    "for expt in expts:\n",
    "    vp = pd.read_csv(logdir / expt / \"valid_preds.csv\")\n",
    "    vp = vp[cols].values.reshape(-1)\n",
    "    vp = do_stair(vp)\n",
    "    valid_preds.append(vp)\n",
    "\n",
    "valid_preds = np.vstack(valid_preds)"
   ]
  },
  {
   "cell_type": "code",
   "execution_count": 18,
   "id": "66b46333-d4dc-4c8e-b238-12d8b3d71bc6",
   "metadata": {},
   "outputs": [
    {
     "name": "stdout",
     "output_type": "stream",
     "text": [
      "0.2109074592590332\n"
     ]
    },
    {
     "data": {
      "image/png": "[encoded data removed]",
      "text/plain": [
       "<Figure size 432x288 with 1 Axes>"
      ]
     },
     "metadata": {
      "needs_background": "light"
     },
     "output_type": "display_data"
    }
   ],
   "source": [
    "spread = np.max(valid_preds, axis=0) - np.min(valid_preds, axis=0)\n",
    "print(np.median(spread))\n",
    "fig, ax = plt.subplots(1, 1, figsize=(6, 4))\n",
    "ax.hist(spread, bins=100)\n",
    "plt.show()"
   ]
  },
  {
   "cell_type": "code",
   "execution_count": 11,
   "id": "82a07570-b974-4cc1-8fe9-b248cc8049ec",
   "metadata": {},
   "outputs": [],
   "source": [
    "targets = train[\"pressure\"].values\n",
    "kfolds = train[\"kfold\"].values\n",
    "u_outs = train[\"u_out\"].values"
   ]
  },
  {
   "cell_type": "markdown",
   "id": "26adf19a-381f-4dac-b6cf-5986f5d8d57b",
   "metadata": {},
   "source": [
    "## baselines"
   ]
  },
  {
   "cell_type": "code",
   "execution_count": 21,
   "id": "04f8a1ac-63bd-4f34-813d-6dc98b4e9fef",
   "metadata": {},
   "outputs": [
    {
     "name": "stdout",
     "output_type": "stream",
     "text": [
      "Single: 0.165\n",
      "Median: 0.146\n",
      "Mean: 0.148\n"
     ]
    }
   ],
   "source": [
    "print(f\"Single: {score(targets, valid_preds[expts.index('lstm-soft')], u_outs):.03f}\")\n",
    "\n",
    "# median\n",
    "pred_median = do_stair(np.median(valid_preds, axis=0))\n",
    "print(f\"Median: {score(targets, pred_median, u_outs):.03f}\")\n",
    "\n",
    "# mean\n",
    "pred_mean = do_stair(np.mean(valid_preds, axis=0))\n",
    "print(f\"Mean: {score(targets, pred_mean, u_outs):.03f}\")"
   ]
  },
  {
   "cell_type": "code",
   "execution_count": 24,
   "id": "66451186-b81d-48ca-89d9-8fa03fec2efd",
   "metadata": {},
   "outputs": [
    {
     "data": {
      "text/plain": [
       "array([0. , 0.1, 0.2, 0.3, 0.4, 0.5, 0.6, 0.7, 0.8, 0.9, 1. ])"
      ]
     },
     "execution_count": 24,
     "metadata": {},
     "output_type": "execute_result"
    }
   ],
   "source": [
    "np.linspace(0, 1, 11)"
   ]
  },
  {
   "cell_type": "code",
   "execution_count": 36,
   "id": "64c0a091-6759-4d0e-a141-ce5d59c6da2d",
   "metadata": {},
   "outputs": [
    {
     "data": {
      "image/png": "[encoded data removed]",
      "text/plain": [
       "<Figure size 432x288 with 1 Axes>"
      ]
     },
     "metadata": {
      "needs_background": "light"
     },
     "output_type": "display_data"
    }
   ],
   "source": [
    "fig, ax = plt.subplots(1, 1, figsize=(6, 4))\n",
    "\n",
    "threshs = np.linspace(0, 0.3, 101)\n",
    "scores = []\n",
    "for thresh in threshs:\n",
    "    pred_custom = np.where(spread < thresh, pred_mean, pred_median)\n",
    "    pred_custom = do_stair(pred_custom)\n",
    "    scores.append(score(targets, pred_custom, u_outs))\n",
    "ax.plot(threshs, scores)\n",
    "ax.set_title(f\"Best Thresh = {threshs[np.argmin(scores)]:.05f}\")\n",
    "plt.show()"
   ]
  },
  {
   "cell_type": "code",
   "execution_count": 37,
   "id": "6851666a-17e4-4565-985a-f567da506325",
   "metadata": {},
   "outputs": [
    {
     "name": "stdout",
     "output_type": "stream",
     "text": [
      "custom2\n",
      "lstm-batchnorm\n",
      "lstm-less-addfeatures-cut-large-custom-mae\n",
      "lstm-less-addfeatures-cut-large-custom-mae\n",
      "lstm-notcut\n",
      "lstm-rcpred\n",
      "lstm-reliable\n",
      "lstm-soft\n",
      "lstm-soft-fullconnect\n",
      "lstm-soft-rc\n",
      "lstm-soft-fullconnect-dropout\n"
     ]
    }
   ],
   "source": [
    "submissions = []\n",
    "\n",
    "for expt in expts:\n",
    "    print(expt)\n",
    "    sub = pd.read_csv(logdir / expt / \"custom_submission.csv\")\n",
    "    sub = do_stair(sub[\"pressure\"].values)\n",
    "    submissions.append(sub)\n",
    "\n",
    "submissions = np.vstack(submissions)"
   ]
  },
  {
   "cell_type": "code",
   "execution_count": 41,
   "id": "68f378fe-24fc-424e-b4cd-56d94014cfc9",
   "metadata": {},
   "outputs": [
    {
     "data": {
      "text/html": [
       "<div>\n",
       "<style scoped>\n",
       "    .dataframe tbody tr th:only-of-type {\n",
       "        vertical-align: middle;\n",
       "    }\n",
       "\n",
       "    .dataframe tbody tr th {\n",
       "        vertical-align: top;\n",
       "    }\n",
       "\n",
       "    .dataframe thead th {\n",
       "        text-align: right;\n",
       "    }\n",
       "</style>\n",
       "<table border=\"1\" class=\"dataframe\">\n",
       "  <thead>\n",
       "    <tr style=\"text-align: right;\">\n",
       "      <th></th>\n",
       "      <th>id</th>\n",
       "      <th>pressure</th>\n",
       "    </tr>\n",
       "  </thead>\n",
       "  <tbody>\n",
       "    <tr>\n",
       "      <th>0</th>\n",
       "      <td>1</td>\n",
       "      <td>6.259344</td>\n",
       "    </tr>\n",
       "    <tr>\n",
       "      <th>1</th>\n",
       "      <td>2</td>\n",
       "      <td>5.978134</td>\n",
       "    </tr>\n",
       "    <tr>\n",
       "      <th>2</th>\n",
       "      <td>3</td>\n",
       "      <td>7.102974</td>\n",
       "    </tr>\n",
       "    <tr>\n",
       "      <th>3</th>\n",
       "      <td>4</td>\n",
       "      <td>7.665394</td>\n",
       "    </tr>\n",
       "    <tr>\n",
       "      <th>4</th>\n",
       "      <td>5</td>\n",
       "      <td>9.141746</td>\n",
       "    </tr>\n",
       "  </tbody>\n",
       "</table>\n",
       "</div>"
      ],
      "text/plain": [
       "   id  pressure\n",
       "0   1  6.259344\n",
       "1   2  5.978134\n",
       "2   3  7.102974\n",
       "3   4  7.665394\n",
       "4   5  9.141746"
      ]
     },
     "execution_count": 41,
     "metadata": {},
     "output_type": "execute_result"
    }
   ],
   "source": [
    "# Median Submission\n",
    "submission = pd.read_csv(datadir / \"sample_submission.csv\")\n",
    "sub_median = do_stair(np.median(submissions, axis=0))\n",
    "sub_mean = do_stair(np.mean(submissions, axis=0))\n",
    "sub_spread = np.max(submissions, axis=0) - np.min(submissions, axis=0)\n",
    "\n",
    "sub_custom = do_stair(np.where(sub_spread < 0.213, sub_mean, sub_median))\n",
    "\n",
    "submission[\"pressure\"] = sub_custom\n",
    "submission.to_csv(basedir /  \"custom_submission.csv\", index=False)\n",
    "submission.head()"
   ]
  },
  {
   "cell_type": "markdown",
   "id": "b989512a-ebc1-4703-97af-55849f87f97f",
   "metadata": {},
   "source": [
    "## CNN"
   ]
  },
  {
   "cell_type": "code",
   "execution_count": 131,
   "id": "54fdda2d-d8b2-4480-92be-65ef4c20da6e",
   "metadata": {},
   "outputs": [],
   "source": [
    "from sklearn.preprocessing import Normalizer\n",
    "\n",
    "import tensorflow as tf\n",
    "from tensorflow import keras"
   ]
  },
  {
   "cell_type": "code",
   "execution_count": 153,
   "id": "0476744e-ee60-49db-a70c-213b74b8f067",
   "metadata": {},
   "outputs": [],
   "source": [
    "# def create_features(preds):\n",
    "#     pred_cols = [f\"pred{i}\" for i in range(preds.shape[0])]\n",
    "#     df = pd.DataFrame(preds.T, columns=pred_cols)\n",
    "#     df[\"median\"] = np.median(df[pred_cols], axis=1)\n",
    "#     df[\"mean\"] = np.mean(df[pred_cols], axis=1)\n",
    "\n",
    "#     q25, q75 = np.quantile(df[pred_cols], [0.25, 0.75], axis=1)\n",
    "#     iqr = q75 - q25\n",
    "#     df[\"iqr\"] = iqr\n",
    "\n",
    "#     for c in pred_cols:\n",
    "#         df[c] = df[c] - df[\"median\"]\n",
    "        \n",
    "#     return df\n",
    "\n",
    "\n",
    "def create_features(preds):\n",
    "    pred_cols = [f\"pred{i}\" for i in range(preds.shape[0])]\n",
    "    df = pd.DataFrame(preds.T, columns=pred_cols)\n",
    "    df[\"median\"] = np.median(df[pred_cols], axis=1)\n",
    "    df[\"mean\"] = np.mean(df[pred_cols], axis=1)\n",
    "\n",
    "#     q25, q75 = np.quantile(df[pred_cols], [0.25, 0.75], axis=1)\n",
    "#     iqr = q75 - q25\n",
    "#     df[\"iqr\"] = iqr\n",
    "\n",
    "#     for c in pred_cols:\n",
    "#         df[c] = df[c] - df[\"median\"]\n",
    "        \n",
    "    return df\n",
    "\n",
    "train_df = create_features(valid_preds)\n",
    "test_df = create_features(submissions)"
   ]
  },
  {
   "cell_type": "code",
   "execution_count": 154,
   "id": "0fe88248-3c98-4daf-a987-00415b8bd173",
   "metadata": {},
   "outputs": [],
   "source": [
    "class Normalizer:\n",
    "    def __init__(self):\n",
    "        self.pred_cols = [f\"pred{i}\" for i in range(10)]\n",
    "        self.other_cols = []\n",
    "        self.minmax = {}\n",
    "    \n",
    "    def fit_transform(self, df_):\n",
    "        df = df_.copy()\n",
    "        cols = list(df.columns)\n",
    "        self.other_cols = [c for c in cols if c not in self.pred_cols]\n",
    "        \n",
    "        x = df[self.pred_cols].values\n",
    "        self.minmax[\"pred\"] = (np.min(x), np.max(x))\n",
    "        x = (x - self.minmax[\"pred\"][0]) / (self.minmax[\"pred\"][1] - self.minmax[\"pred\"][0])\n",
    "        df[self.pred_cols] = x\n",
    "        \n",
    "        for c in self.other_cols:\n",
    "            x = df[c].values\n",
    "            self.minmax[c] = (np.min(x), np.max(x))\n",
    "            x = (x - self.minmax[c][0]) / (self.minmax[c][1] - self.minmax[c][0])\n",
    "            df[c] = x\n",
    "        \n",
    "        return df[self.pred_cols + self.other_cols].values\n",
    "        \n",
    "    \n",
    "    def transform(self, df_):\n",
    "        df = df_.copy()\n",
    "        \n",
    "        df[self.pred_cols] = (df[self.pred_cols].values - self.minmax[\"pred\"][0]) / (self.minmax[\"pred\"][1] - self.minmax[\"pred\"][0])\n",
    "        for c in self.other_cols:\n",
    "            df[c] = (df[c].values - self.minmax[\"pred\"][0]) / (self.minmax[\"pred\"][1] - self.minmax[\"pred\"][0])\n",
    "        \n",
    "        return df[self.pred_cols + self.other_cols].values"
   ]
  },
  {
   "cell_type": "code",
   "execution_count": 155,
   "id": "7d05d84e-4365-448c-a969-a0cf89499a3d",
   "metadata": {},
   "outputs": [],
   "source": [
    "SCL = Normalizer()\n",
    "\n",
    "train_data = SCL.fit_transform(train_df)\n",
    "test_data = SCL.transform(test_df)"
   ]
  },
  {
   "cell_type": "code",
   "execution_count": 159,
   "id": "72b7bbcb-c0d9-4b9f-862e-881e5e8de9de",
   "metadata": {},
   "outputs": [],
   "source": [
    "# def build_model(n_features) -> keras.models.Sequential:\n",
    "#     model = keras.models.Sequential([keras.layers.Input(shape=(n_features, ))])\n",
    "    \n",
    "#     for n_unit in [64]:\n",
    "#         model.add(keras.layers.Dense(n_unit, activation=\"relu\"))\n",
    "#     model.add(keras.layers.Dense(1))\n",
    "\n",
    "#     model.compile(\n",
    "#         optimizer=keras.optimizers.Adam(lr=1e-3),\n",
    "#         loss='mae')\n",
    "#     return model\n",
    "\n",
    "\n",
    "def build_model(n_features) -> keras.models.Sequential:\n",
    "    model = keras.models.Sequential([keras.layers.Input(shape=(n_features, 35))])\n",
    "    model.add(\n",
    "        keras.layers.Conv1D(filters=32, kernel_size=3, dilation_rate=1, padding=\"valid\")\n",
    "    )\n",
    "    model.add(\n",
    "        keras.layers.Conv1D(filters=16, kernel_size=3, dilation_rate=1, padding=\"valid\")\n",
    "    )\n",
    "    model.add(keras.layers.BatchNormalization())\n",
    "    model.add(keras.layers.ReLU())\n",
    "    model.add(keras.layers.GlobalAveragePooling1D())\n",
    "    model.add(keras.layers.Dense(35))\n",
    "\n",
    "    model.compile(\n",
    "        optimizer=keras.optimizers.Adam(lr=1e-3),\n",
    "        loss='mae')\n",
    "    return model"
   ]
  },
  {
   "cell_type": "code",
   "execution_count": 160,
   "id": "5ae54f7e-0c16-4ff2-9127-3619fb8d8968",
   "metadata": {},
   "outputs": [],
   "source": [
    "train_data = train_data.reshape(-1, 35, train_data.shape[-1]).transpose(0, 2, 1)\n",
    "targets = targets.reshape(-1, 35)\n",
    "# test_data = test_data.reshape(-1, 35, test_data.shape[-1])"
   ]
  },
  {
   "cell_type": "code",
   "execution_count": 161,
   "id": "ff17c4a8-c280-405d-9d79-3560579ac5d3",
   "metadata": {},
   "outputs": [
    {
     "name": "stdout",
     "output_type": "stream",
     "text": [
      "--------------- > Fold 1 < ---------------\n",
      "Model: \"sequential\"\n",
      "_________________________________________________________________\n",
      "Layer (type)                 Output Shape              Param #   \n",
      "=================================================================\n",
      "conv1d (Conv1D)              (None, 33, 32)            3392      \n",
      "_________________________________________________________________\n",
      "conv1d_1 (Conv1D)            (None, 31, 16)            1552      \n",
      "_________________________________________________________________\n",
      "batch_normalization (BatchNo (None, 31, 16)            64        \n",
      "_________________________________________________________________\n",
      "re_lu (ReLU)                 (None, 31, 16)            0         \n",
      "_________________________________________________________________\n",
      "global_average_pooling1d (Gl (None, 16)                0         \n",
      "_________________________________________________________________\n",
      "dense (Dense)                (None, 35)                595       \n",
      "=================================================================\n",
      "Total params: 5,603\n",
      "Trainable params: 5,571\n",
      "Non-trainable params: 32\n",
      "_________________________________________________________________\n",
      "Epoch 1/50\n",
      "WARNING:tensorflow:Model was constructed with shape (None, 35, 35) for input KerasTensor(type_spec=TensorSpec(shape=(None, 35, 35), dtype=tf.float32, name='input_1'), name='input_1', description=\"created by layer 'input_1'\"), but it was called on an input with incompatible shape (None, 12, 35).\n",
      "WARNING:tensorflow:Model was constructed with shape (None, 35, 35) for input KerasTensor(type_spec=TensorSpec(shape=(None, 35, 35), dtype=tf.float32, name='input_1'), name='input_1', description=\"created by layer 'input_1'\"), but it was called on an input with incompatible shape (None, 12, 35).\n",
      "133/133 [==============================] - ETA: 0s - loss: 16.6926WARNING:tensorflow:Model was constructed with shape (None, 35, 35) for input KerasTensor(type_spec=TensorSpec(shape=(None, 35, 35), dtype=tf.float32, name='input_1'), name='input_1', description=\"created by layer 'input_1'\"), but it was called on an input with incompatible shape (None, 12, 35).\n",
      "133/133 [==============================] - 1s 5ms/step - loss: 16.6926 - val_loss: 15.3293\n",
      "Epoch 2/50\n",
      "133/133 [==============================] - 1s 4ms/step - loss: 14.7021 - val_loss: 10.5166\n",
      "Epoch 3/50\n",
      "133/133 [==============================] - 1s 4ms/step - loss: 11.5434 - val_loss: 5.1390\n",
      "Epoch 4/50\n",
      "133/133 [==============================] - 1s 5ms/step - loss: 7.9215 - val_loss: 7.3381\n",
      "Epoch 5/50\n",
      "133/133 [==============================] - 1s 5ms/step - loss: 4.9449 - val_loss: 6.2077\n",
      "Epoch 6/50\n",
      "133/133 [==============================] - 1s 4ms/step - loss: 3.0672 - val_loss: 3.8209\n",
      "Epoch 7/50\n",
      "133/133 [==============================] - 1s 4ms/step - loss: 2.2602 - val_loss: 2.4490\n",
      "Epoch 8/50\n",
      "133/133 [==============================] - 1s 5ms/step - loss: 1.9493 - val_loss: 2.0981\n",
      "Epoch 9/50\n",
      "133/133 [==============================] - 1s 5ms/step - loss: 1.7786 - val_loss: 1.9160\n",
      "Epoch 10/50\n",
      "133/133 [==============================] - 1s 4ms/step - loss: 1.6830 - val_loss: 1.6753\n",
      "Epoch 11/50\n",
      "133/133 [==============================] - 1s 5ms/step - loss: 1.6074 - val_loss: 1.5990\n",
      "Epoch 12/50\n",
      "133/133 [==============================] - 1s 5ms/step - loss: 1.5299 - val_loss: 1.7049\n",
      "Epoch 13/50\n",
      "133/133 [==============================] - 1s 4ms/step - loss: 1.4711 - val_loss: 1.7777\n",
      "Epoch 14/50\n",
      "133/133 [==============================] - 1s 4ms/step - loss: 1.4216 - val_loss: 1.3601\n",
      "Epoch 15/50\n",
      "133/133 [==============================] - 1s 4ms/step - loss: 1.3670 - val_loss: 1.3654\n",
      "Epoch 16/50\n",
      "133/133 [==============================] - 1s 4ms/step - loss: 1.3208 - val_loss: 1.2744\n",
      "Epoch 17/50\n",
      "133/133 [==============================] - 1s 5ms/step - loss: 1.2703 - val_loss: 1.2044\n",
      "Epoch 18/50\n",
      "133/133 [==============================] - 1s 4ms/step - loss: 1.2490 - val_loss: 1.2320\n",
      "Epoch 19/50\n",
      "133/133 [==============================] - 1s 5ms/step - loss: 1.2133 - val_loss: 1.2585\n",
      "Epoch 20/50\n",
      "133/133 [==============================] - 1s 5ms/step - loss: 1.1758 - val_loss: 1.1280\n",
      "Epoch 21/50\n",
      "133/133 [==============================] - 1s 5ms/step - loss: 1.1521 - val_loss: 1.2423\n",
      "Epoch 22/50\n",
      "133/133 [==============================] - 1s 5ms/step - loss: 1.1360 - val_loss: 1.1405\n",
      "Epoch 23/50\n",
      "133/133 [==============================] - 1s 4ms/step - loss: 1.1036 - val_loss: 1.1054\n",
      "Epoch 24/50\n",
      "133/133 [==============================] - 1s 4ms/step - loss: 1.0858 - val_loss: 1.0352\n",
      "Epoch 25/50\n",
      "133/133 [==============================] - 1s 5ms/step - loss: 1.0636 - val_loss: 1.0600\n",
      "Epoch 26/50\n",
      "133/133 [==============================] - 1s 5ms/step - loss: 1.0489 - val_loss: 1.0084\n",
      "Epoch 27/50\n",
      "133/133 [==============================] - 1s 5ms/step - loss: 1.0320 - val_loss: 1.0927\n",
      "Epoch 28/50\n",
      "133/133 [==============================] - 1s 5ms/step - loss: 1.0009 - val_loss: 1.0674\n",
      "Epoch 29/50\n",
      "133/133 [==============================] - 1s 4ms/step - loss: 0.9988 - val_loss: 1.0043\n",
      "Epoch 30/50\n",
      "133/133 [==============================] - 1s 4ms/step - loss: 0.9755 - val_loss: 0.9731\n",
      "Epoch 31/50\n",
      "133/133 [==============================] - 1s 4ms/step - loss: 0.9535 - val_loss: 1.6492\n",
      "Epoch 32/50\n",
      "133/133 [==============================] - 1s 4ms/step - loss: 0.9465 - val_loss: 0.9461\n",
      "Epoch 33/50\n",
      "133/133 [==============================] - 1s 5ms/step - loss: 0.9301 - val_loss: 0.8505\n",
      "Epoch 34/50\n",
      "133/133 [==============================] - 1s 5ms/step - loss: 0.9222 - val_loss: 0.8848\n",
      "Epoch 35/50\n",
      "133/133 [==============================] - 1s 4ms/step - loss: 0.9082 - val_loss: 0.8519\n",
      "Epoch 36/50\n",
      "133/133 [==============================] - 1s 5ms/step - loss: 0.9181 - val_loss: 0.8679\n",
      "Epoch 37/50\n",
      "133/133 [==============================] - 1s 5ms/step - loss: 0.8791 - val_loss: 0.9609\n",
      "Epoch 38/50\n",
      "133/133 [==============================] - 1s 5ms/step - loss: 0.8836 - val_loss: 0.9809\n",
      "Restoring model weights from the end of the best epoch.\n",
      "Epoch 00038: early stopping\n"
     ]
    }
   ],
   "source": [
    "EPOCHS = 50\n",
    "BATCH_SIZE = 512\n",
    "\n",
    "with tf.device(f\"/GPU:{2}\"):\n",
    "    for fold in range(10):\n",
    "        print(\"-\" * 15, \">\", f\"Fold {fold+1}\", \"<\", \"-\" * 15)\n",
    "        train_idx, valid_idx = (kfolds[0::35] != fold), (kfolds[0::35] == fold)\n",
    "        X_train, X_valid = train_data[train_idx, :, :], train_data[valid_idx, :, :]\n",
    "        y_train, y_valid = targets[train_idx], targets[valid_idx]\n",
    "        \n",
    "        es = keras.callbacks.EarlyStopping(\n",
    "            monitor=\"val_loss\",\n",
    "            patience=5,\n",
    "            verbose=1,\n",
    "            mode=\"min\",\n",
    "            restore_best_weights=True,\n",
    "        )\n",
    "\n",
    "        model = build_model(n_features=X_train.shape[-1])\n",
    "        model.summary()\n",
    "        history = model.fit(\n",
    "            X_train,\n",
    "            y_train,\n",
    "            validation_data=(X_valid, y_valid),\n",
    "            epochs=EPOCHS,\n",
    "            batch_size=BATCH_SIZE,\n",
    "            callbacks=[es],\n",
    "            verbose=1\n",
    "        )\n",
    "        \n",
    "        # print(f\"Median: {score(targets[valid_idx], pred_median[valid_idx], u_outs[valid_idx]):.04f}\")\n",
    "        \n",
    "        del model, X_train, X_valid, y_train, y_valid\n",
    "        keras.backend.clear_session()\n",
    "        \n",
    "        break"
   ]
  },
  {
   "cell_type": "code",
   "execution_count": 116,
   "id": "d319767b-2456-431f-ad5b-9c83968e77e9",
   "metadata": {},
   "outputs": [
    {
     "name": "stdout",
     "output_type": "stream",
     "text": [
      "Median: 0.1433\n"
     ]
    }
   ],
   "source": [
    "pred_median = np.median(valid_preds, axis=0)\n",
    "print(f\"Median: {score(targets[valid_idx], pred_median[valid_idx], u_outs[valid_idx]):.04f}\")"
   ]
  },
  {
   "cell_type": "code",
   "execution_count": 130,
   "id": "6bdf2fd3-580a-4875-a190-3656fd242021",
   "metadata": {},
   "outputs": [
    {
     "name": "stdout",
     "output_type": "stream",
     "text": [
      "Median: 0.1654\n",
      "Median: 0.1882\n",
      "Median: 0.1638\n",
      "Median: 0.1638\n",
      "Median: 0.1711\n",
      "Median: 0.1658\n",
      "Median: 0.1651\n",
      "Median: 0.1647\n",
      "Median: 0.1676\n",
      "Median: 0.1690\n",
      "Median: 0.1456\n"
     ]
    }
   ],
   "source": [
    "for pred in valid_preds:\n",
    "    print(f\"Median: {score(targets, pred, u_outs):.04f}\")\n",
    "print(f\"Median: {score(targets, pred_median, u_outs):.04f}\")"
   ]
  },
  {
   "cell_type": "code",
   "execution_count": null,
   "id": "59db5d32-3d0e-4a5e-a245-6abf6ae8d20c",
   "metadata": {},
   "outputs": [],
   "source": []
  }
 ],
 "metadata": {
  "kernelspec": {
   "display_name": "Python 3 (ipykernel)",
   "language": "python",
   "name": "python3"
  },
  "language_info": {
   "codemirror_mode": {
    "name": "ipython",
    "version": 3
   },
   "file_extension": ".py",
   "mimetype": "text/x-python",
   "name": "python",
   "nbconvert_exporter": "python",
   "pygments_lexer": "ipython3",
   "version": "3.9.0"
  }
 },
 "nbformat": 4,
 "nbformat_minor": 5
}
