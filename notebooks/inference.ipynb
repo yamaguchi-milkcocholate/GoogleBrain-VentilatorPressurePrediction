{
 "cells": [
  {
   "cell_type": "code",
   "execution_count": 1,
   "id": "f94e9d25-3c7c-41e9-82b3-8197d9445878",
   "metadata": {},
   "outputs": [],
   "source": [
    "import numpy as np\n",
    "import pandas as pd\n",
    "from pathlib import Path\n",
    "import warnings\n",
    "import sys\n",
    "import json\n",
    "import gc\n",
    "from matplotlib import pyplot as plt\n",
    "import tensorflow as tf\n",
    "from tensorflow import keras\n",
    "from tensorflow.keras import layers\n",
    "\n",
    "from sklearn.preprocessing import RobustScaler\n",
    "\n",
    "warnings.simplefilter('ignore')"
   ]
  },
  {
   "cell_type": "code",
   "execution_count": 2,
   "id": "1f32eeca-b478-485b-8f46-7d9d69850a1d",
   "metadata": {},
   "outputs": [],
   "source": [
    "basedir = Path().resolve().parent\n",
    "sys.path.append(str(basedir))"
   ]
  },
  {
   "cell_type": "code",
   "execution_count": 3,
   "id": "87df0bba-a838-48ec-9b01-6b4d9e00a2f4",
   "metadata": {},
   "outputs": [],
   "source": [
    "cachedir = basedir / \"cache\"\n",
    "logdir = basedir / \"logs\"\n",
    "datadir = basedir / \"data\"\n",
    "expt = \"lstm-soft-fullconnect-dropout\""
   ]
  },
  {
   "cell_type": "code",
   "execution_count": 4,
   "id": "112f0af8-dafd-4108-a32d-de13d684d2a9",
   "metadata": {},
   "outputs": [],
   "source": [
    "from src.utils import (\n",
    "    seed_every_thing,\n",
    "    fetch_data,\n",
    "    Config,\n",
    "    plot_metric,\n",
    "    reduce_tf_gpu_memory,\n",
    "    reduce_mem_usage,\n",
    "    fetch_custom_data,\n",
    "    CustomL1Loss,\n",
    ")"
   ]
  },
  {
   "cell_type": "code",
   "execution_count": 5,
   "id": "654f2cec-d124-4311-8f61-e29030001da3",
   "metadata": {},
   "outputs": [],
   "source": [
    "cfg_file_path = logdir / expt / \"config.json\"\n",
    "with open(cfg_file_path, \"rb\") as f:\n",
    "    config = json.load(f)\n",
    "\n",
    "config = Config().update(config)"
   ]
  },
  {
   "cell_type": "code",
   "execution_count": 12,
   "id": "7160be69-312f-4eeb-872d-3102616cd23e",
   "metadata": {},
   "outputs": [],
   "source": [
    "def build_model(config: Config, n_features) -> keras.models.Sequential:\n",
    "    model = keras.models.Sequential([keras.layers.Input(shape=(config.cut, n_features))])\n",
    "    for n_unit in config.n_units:\n",
    "        model.add(\n",
    "            keras.layers.Bidirectional(\n",
    "                keras.layers.LSTM(\n",
    "                    n_unit,\n",
    "                    return_sequences=True,\n",
    "                )\n",
    "            )\n",
    "        )\n",
    "    for n_unit in config.n_dense_units:\n",
    "        model.add(keras.layers.Dense(n_unit, activation=\"selu\"))\n",
    "    model.add(keras.layers.Dense(1))\n",
    "    # model.load_weights(basemodeldir / \"weights_custom_best.h5\")\n",
    "\n",
    "    embed = model.layers[-2].output\n",
    "    embed = keras.layers.Dense(config.embed_dim, activation=\"selu\")(embed)\n",
    "    concat = keras.layers.Flatten()(embed)\n",
    "    concat = keras.layers.Dropout(config.dropout)(concat)\n",
    "    outputs = keras.layers.Dense(config.cut)(concat)\n",
    "\n",
    "    fc_model = keras.models.Model(inputs=model.inputs, outputs=outputs)\n",
    "    fc_model.compile(optimizer=keras.optimizers.Adam(learning_rate=config.lr), loss=\"mae\")\n",
    "    return fc_model"
   ]
  },
  {
   "cell_type": "code",
   "execution_count": 7,
   "id": "0908409d-fbcc-4288-9224-8d9d36f1bca5",
   "metadata": {},
   "outputs": [
    {
     "name": "stdout",
     "output_type": "stream",
     "text": [
      "Memory usage of dataframe is 2216.21 MB\n",
      "Memory usage after optimization is: 543.98 MB\n",
      "Decreased by 75.5%\n",
      "Memory usage of dataframe is 1450.61 MB\n",
      "Memory usage after optimization is: 357.62 MB\n",
      "Decreased by 75.3%\n"
     ]
    }
   ],
   "source": [
    "train_df = reduce_mem_usage(pd.read_csv(cachedir / f\"train-10fold-cut-soft-rc-2-debugFalse.csv\"))\n",
    "test_df = reduce_mem_usage(pd.read_csv(cachedir / f\"test-10fold-cut-soft-rc-2-debugFalse.csv\"))"
   ]
  },
  {
   "cell_type": "code",
   "execution_count": 8,
   "id": "19d9df6d-db3d-431d-be01-efba8618e3bc",
   "metadata": {},
   "outputs": [],
   "source": [
    "# train_df = train_df[np.arange(train_df.shape[0]) % 80 < config.cut].reset_index(drop=True)"
   ]
  },
  {
   "cell_type": "code",
   "execution_count": 9,
   "id": "bfde051f-55f8-4dba-8fdf-2e82844d5d76",
   "metadata": {},
   "outputs": [
    {
     "name": "stdout",
     "output_type": "stream",
     "text": [
      "Min pressure: -1.8955078125\n",
      "Max pressure: 64.8125\n",
      "Pressure step: 0.0703125\n",
      "Unique values:  950\n"
     ]
    },
    {
     "data": {
      "text/plain": [
       "0"
      ]
     },
     "execution_count": 9,
     "metadata": {},
     "output_type": "execute_result"
    }
   ],
   "source": [
    "pressure = train_df.pressure.values.squeeze().reshape(-1,1).astype('float32')\n",
    "P_MIN = np.min(pressure)\n",
    "P_MAX = np.max(pressure)\n",
    "P_STEP = (pressure[1] - pressure[0])[0]\n",
    "print('Min pressure: {}'.format(P_MIN))\n",
    "print('Max pressure: {}'.format(P_MAX))\n",
    "print('Pressure step: {}'.format(P_STEP))\n",
    "print('Unique values:  {}'.format(np.unique(pressure).shape[0]))\n",
    "\n",
    "del pressure\n",
    "gc.collect()"
   ]
  },
  {
   "cell_type": "code",
   "execution_count": 10,
   "id": "3d147141-7325-4f83-b35d-92cfaf8ea994",
   "metadata": {},
   "outputs": [],
   "source": [
    "kfolds = train_df.iloc[0::config.cut]['kfold'].values\n",
    "\n",
    "# ignore_features = [c for c in train_df.columns if \"neib\" in c]\n",
    "# features = list(train_df.drop([\"kfold\", \"pressure\"] + ignore_features, axis=1).columns)\n",
    "features = list(train_df.drop([\"kfold\", \"pressure\"], axis=1).columns)\n",
    "\n",
    "cont_features = [f for f in features if (\"RC_\" not in f) and (\"R_\" not in f) and (\"C_\" not in f) and (\"u_out\" not in f)]\n",
    "\n",
    "RS = RobustScaler()\n",
    "train_df[cont_features] = RS.fit_transform(train_df[cont_features])\n",
    "test_df[cont_features] = RS.transform(test_df[cont_features])\n",
    "train_data, test_data = train_df[features].values, test_df[features].values\n",
    "\n",
    "train_data = train_data.reshape(-1, config.cut, train_data.shape[-1])\n",
    "targets = train_df[[\"pressure\"]].to_numpy().reshape(-1, config.cut)\n",
    "test_data = test_data.reshape(-1, config.cut, test_data.shape[-1])"
   ]
  },
  {
   "cell_type": "code",
   "execution_count": 13,
   "id": "5a8ec702-28f5-4e9b-a392-51e714b1ba73",
   "metadata": {},
   "outputs": [
    {
     "name": "stdout",
     "output_type": "stream",
     "text": [
      "--------------- > Fold 1 < ---------------\n"
     ]
    },
    {
     "name": "stderr",
     "output_type": "stream",
     "text": [
      "2021-11-03 11:49:38.739458: I tensorflow/compiler/mlir/mlir_graph_optimization_pass.cc:185] None of the MLIR Optimization Passes are enabled (registered 2)\n",
      "2021-11-03 11:49:40.937755: I tensorflow/stream_executor/cuda/cuda_dnn.cc:369] Loaded cuDNN version 8202\n"
     ]
    },
    {
     "name": "stdout",
     "output_type": "stream",
     "text": [
      "--------------- > Fold 2 < ---------------\n",
      "--------------- > Fold 3 < ---------------\n",
      "--------------- > Fold 4 < ---------------\n",
      "--------------- > Fold 5 < ---------------\n",
      "--------------- > Fold 6 < ---------------\n",
      "--------------- > Fold 7 < ---------------\n",
      "--------------- > Fold 8 < ---------------\n",
      "--------------- > Fold 9 < ---------------\n",
      "--------------- > Fold 10 < ---------------\n"
     ]
    }
   ],
   "source": [
    "with tf.device(f\"/GPU:{2}\"):\n",
    "    test_preds = []\n",
    "    for fold in range(config.n_splits):\n",
    "        print(\"-\" * 15, \">\", f\"Fold {fold+1}\", \"<\", \"-\" * 15)\n",
    "        savedir = logdir / expt / f\"fold{fold}\"\n",
    "        model = build_model(config=config, n_features=len(features))\n",
    "        model.load_weights(savedir / \"weights_custom_best.h5\")\n",
    "        \n",
    "        test_preds.append(model.predict(test_data).squeeze().reshape(-1, 1).squeeze())\n",
    "\n",
    "        del model\n",
    "        keras.backend.clear_session()\n",
    "        gc.collect()"
   ]
  },
  {
   "cell_type": "code",
   "execution_count": 14,
   "id": "58d69608-068f-46d6-9a78-2953926fe3a2",
   "metadata": {},
   "outputs": [],
   "source": [
    "# mask = (np.arange(test_preds[0].shape[0]) % 80) < 35\n",
    "# for i in range(len(test_preds)):\n",
    "#     test_preds[i] = test_preds[i][mask]"
   ]
  },
  {
   "cell_type": "code",
   "execution_count": 15,
   "id": "f647b868-47ce-4d32-b3ea-8d5178d113b2",
   "metadata": {},
   "outputs": [],
   "source": [
    "for i in range(len(test_preds)):\n",
    "    test_preds[i] = np.round((test_preds[i] - P_MIN) / P_STEP) * P_STEP + P_MIN\n",
    "    test_preds[i] = np.clip(test_preds[i], P_MIN, P_MAX)"
   ]
  },
  {
   "cell_type": "code",
   "execution_count": 16,
   "id": "39b0730b-16c9-471a-8c54-c03d39683106",
   "metadata": {},
   "outputs": [],
   "source": [
    "preds = np.vstack(test_preds)\n",
    "preds_std = np.std(preds, axis=0)"
   ]
  },
  {
   "cell_type": "code",
   "execution_count": 17,
   "id": "3720b315-a702-427d-9ec5-c759b6755831",
   "metadata": {},
   "outputs": [
    {
     "name": "stdout",
     "output_type": "stream",
     "text": [
      "0.07572888\n"
     ]
    },
    {
     "data": {
      "image/png": "[encoded data removed]",
      "text/plain": [
       "<Figure size 432x288 with 1 Axes>"
      ]
     },
     "metadata": {
      "needs_background": "light"
     },
     "output_type": "display_data"
    }
   ],
   "source": [
    "fig, ax = plt.subplots(1, 1, figsize=(6, 4))\n",
    "ax.hist(preds_std, bins=100)\n",
    "print(np.median(preds_std))\n",
    "plt.show()"
   ]
  },
  {
   "cell_type": "code",
   "execution_count": 18,
   "id": "6a2c5fb3-d055-4689-8800-b60d6de58e83",
   "metadata": {},
   "outputs": [],
   "source": [
    "test_preds_median = np.median(preds, axis=0)\n",
    "test_preds_mean = np.mean(preds, axis=0)"
   ]
  },
  {
   "cell_type": "code",
   "execution_count": 19,
   "id": "bb149463-e9fa-41b7-b0c9-82331d08831c",
   "metadata": {},
   "outputs": [],
   "source": [
    "thresh = 0.06\n",
    "preds_custom = np.where(preds_std <= thresh, test_preds_mean, test_preds_median)"
   ]
  },
  {
   "cell_type": "code",
   "execution_count": 20,
   "id": "60f6246b-f718-4d83-8b0f-440cbe6ad787",
   "metadata": {},
   "outputs": [],
   "source": [
    "preds_custom = np.round((preds_custom - P_MIN) / P_STEP) * P_STEP + P_MIN\n",
    "preds_custom = np.clip(preds_custom, P_MIN, P_MAX)"
   ]
  },
  {
   "cell_type": "code",
   "execution_count": 21,
   "id": "ddde5a19-e4c5-4f7c-80f6-0978f2d71ff9",
   "metadata": {},
   "outputs": [
    {
     "data": {
      "text/html": [
       "<div>\n",
       "<style scoped>\n",
       "    .dataframe tbody tr th:only-of-type {\n",
       "        vertical-align: middle;\n",
       "    }\n",
       "\n",
       "    .dataframe tbody tr th {\n",
       "        vertical-align: top;\n",
       "    }\n",
       "\n",
       "    .dataframe thead th {\n",
       "        text-align: right;\n",
       "    }\n",
       "</style>\n",
       "<table border=\"1\" class=\"dataframe\">\n",
       "  <thead>\n",
       "    <tr style=\"text-align: right;\">\n",
       "      <th></th>\n",
       "      <th>id</th>\n",
       "      <th>pressure</th>\n",
       "    </tr>\n",
       "  </thead>\n",
       "  <tbody>\n",
       "    <tr>\n",
       "      <th>0</th>\n",
       "      <td>1</td>\n",
       "      <td>6.260742</td>\n",
       "    </tr>\n",
       "    <tr>\n",
       "      <th>1</th>\n",
       "      <td>2</td>\n",
       "      <td>5.979492</td>\n",
       "    </tr>\n",
       "    <tr>\n",
       "      <th>2</th>\n",
       "      <td>3</td>\n",
       "      <td>7.104492</td>\n",
       "    </tr>\n",
       "    <tr>\n",
       "      <th>3</th>\n",
       "      <td>4</td>\n",
       "      <td>7.666992</td>\n",
       "    </tr>\n",
       "    <tr>\n",
       "      <th>4</th>\n",
       "      <td>5</td>\n",
       "      <td>9.143555</td>\n",
       "    </tr>\n",
       "  </tbody>\n",
       "</table>\n",
       "</div>"
      ],
      "text/plain": [
       "   id  pressure\n",
       "0   1  6.260742\n",
       "1   2  5.979492\n",
       "2   3  7.104492\n",
       "3   4  7.666992\n",
       "4   5  9.143555"
      ]
     },
     "execution_count": 21,
     "metadata": {},
     "output_type": "execute_result"
    }
   ],
   "source": [
    "submission = pd.read_csv(datadir / \"sample_submission.csv\")\n",
    "counts = np.arange(submission.shape[0]) % 80\n",
    "submission.loc[counts < 35, \"pressure\"] = preds_custom\n",
    "submission.to_csv(logdir / expt / \"custom_submission.csv\", index=False)\n",
    "submission.head()"
   ]
  },
  {
   "cell_type": "code",
   "execution_count": null,
   "id": "9459c14e-3996-4985-b8c6-dc80924ba2cb",
   "metadata": {},
   "outputs": [],
   "source": []
  }
 ],
 "metadata": {
  "kernelspec": {
   "display_name": "Python 3 (ipykernel)",
   "language": "python",
   "name": "python3"
  },
  "language_info": {
   "codemirror_mode": {
    "name": "ipython",
    "version": 3
   },
   "file_extension": ".py",
   "mimetype": "text/x-python",
   "name": "python",
   "nbconvert_exporter": "python",
   "pygments_lexer": "ipython3",
   "version": "3.9.0"
  }
 },
 "nbformat": 4,
 "nbformat_minor": 5
}
