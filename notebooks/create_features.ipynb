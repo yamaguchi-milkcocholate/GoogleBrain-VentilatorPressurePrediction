{
 "cells": [
  {
   "cell_type": "code",
   "execution_count": 157,
   "id": "a30ab008-3216-4006-aaac-ace4b606510e",
   "metadata": {},
   "outputs": [],
   "source": [
    "import numpy as np\n",
    "import pandas as pd\n",
    "from pathlib import Path\n",
    "import pickle as pkl\n",
    "from matplotlib import pyplot as plt\n",
    "import gc\n",
    "from tqdm import tqdm"
   ]
  },
  {
   "cell_type": "code",
   "execution_count": 19,
   "id": "683e1738-e9a6-4665-bc22-4105708e8809",
   "metadata": {},
   "outputs": [],
   "source": [
    "def reduce_mem_usage(df):\n",
    "    \"\"\"iterate through all the columns of a dataframe and modify the data type\n",
    "    to reduce memory usage.\n",
    "    \"\"\"\n",
    "    start_mem = df.memory_usage().sum() / 1024 ** 2\n",
    "    print(\"Memory usage of dataframe is {:.2f} MB\".format(start_mem))\n",
    "\n",
    "    for col in df.columns:\n",
    "        col_type = df[col].dtype\n",
    "\n",
    "        if col_type != object:\n",
    "            c_min = df[col].min()\n",
    "            c_max = df[col].max()\n",
    "            if str(col_type)[:3] == \"int\":\n",
    "                if c_min > np.iinfo(np.int8).min and c_max < np.iinfo(np.int8).max:\n",
    "                    df[col] = df[col].astype(np.int8)\n",
    "                elif c_min > np.iinfo(np.int16).min and c_max < np.iinfo(np.int16).max:\n",
    "                    df[col] = df[col].astype(np.int16)\n",
    "                elif c_min > np.iinfo(np.int32).min and c_max < np.iinfo(np.int32).max:\n",
    "                    df[col] = df[col].astype(np.int32)\n",
    "                elif c_min > np.iinfo(np.int64).min and c_max < np.iinfo(np.int64).max:\n",
    "                    df[col] = df[col].astype(np.int64)\n",
    "            else:\n",
    "                if (\n",
    "                    c_min > np.finfo(np.float16).min\n",
    "                    and c_max < np.finfo(np.float16).max\n",
    "                ):\n",
    "                    df[col] = df[col].astype(np.float16)\n",
    "                elif (\n",
    "                    c_min > np.finfo(np.float32).min\n",
    "                    and c_max < np.finfo(np.float32).max\n",
    "                ):\n",
    "                    df[col] = df[col].astype(np.float32)\n",
    "                else:\n",
    "                    df[col] = df[col].astype(np.float64)\n",
    "        else:\n",
    "            df[col] = df[col].astype(\"category\")\n",
    "\n",
    "    end_mem = df.memory_usage().sum() / 1024 ** 2\n",
    "    print(\"Memory usage after optimization is: {:.2f} MB\".format(end_mem))\n",
    "    print(\"Decreased by {:.1f}%\".format(100 * (start_mem - end_mem) / start_mem))\n",
    "\n",
    "    return df"
   ]
  },
  {
   "cell_type": "code",
   "execution_count": 17,
   "id": "e69d5156-c4da-42c3-850d-602d14b001d1",
   "metadata": {},
   "outputs": [],
   "source": [
    "datadir = Path().resolve().parent / \"data\"\n",
    "cachedir = Path().resolve().parent / \"cache\"\n",
    "\n",
    "train = reduce_mem_usage(pd.read_csv(cachedir / \"train_lstm-less-cut-addfeatures_debugFalse.csv\"))\n",
    "test = reduce_mem_usage(pd.read_csv(cachedir / \"test_lstm-less-cut-addfeatures_debugFalse.csv\"))"
   ]
  },
  {
   "cell_type": "code",
   "execution_count": 20,
   "id": "66a47088-62ad-4426-a396-3ecfc195509d",
   "metadata": {},
   "outputs": [
    {
     "name": "stdout",
     "output_type": "stream",
     "text": [
      "Memory usage of dataframe is 2216.21 MB\n",
      "Memory usage after optimization is: 506.20 MB\n",
      "Decreased by 77.2%\n",
      "Memory usage of dataframe is 1464.04 MB\n",
      "Memory usage after optimization is: 334.11 MB\n",
      "Decreased by 77.2%\n"
     ]
    }
   ],
   "source": [
    "train = reduce_mem_usage(train)\n",
    "test = reduce_mem_usage(test)"
   ]
  },
  {
   "cell_type": "code",
   "execution_count": 65,
   "id": "41e7a9a9-3519-4e5b-a9c3-8cf7a16d00f5",
   "metadata": {},
   "outputs": [],
   "source": [
    "train_distances = pkl.load(open(datadir / \"train_distances.pkl\", \"rb\"))\n",
    "train_neighbors = pkl.load(open(datadir / \"train_neighbors.pkl\", \"rb\"))\n",
    "test_distances = pkl.load(open(datadir / \"test_distances.pkl\", \"rb\"))\n",
    "test_neighbors = pkl.load(open(datadir / \"test_neighbors.pkl\", \"rb\"))"
   ]
  },
  {
   "cell_type": "code",
   "execution_count": 28,
   "id": "8e7224eb-ef3a-4888-858f-d676cfbd473a",
   "metadata": {},
   "outputs": [],
   "source": [
    "distances = []\n",
    "for bid, dist in train_distances.items():\n",
    "    distances += dist[1:]\n",
    "distances = np.array(distances)"
   ]
  },
  {
   "cell_type": "code",
   "execution_count": 57,
   "id": "34a38080-494b-4192-bc3f-a59d60be11ea",
   "metadata": {},
   "outputs": [
    {
     "data": {
      "image/png": "[encoded data removed]",
      "text/plain": [
       "<Figure size 432x288 with 1 Axes>"
      ]
     },
     "metadata": {
      "needs_background": "light"
     },
     "output_type": "display_data"
    }
   ],
   "source": [
    "plt.hist(distances[distances < 50], bins=100)\n",
    "plt.show()"
   ]
  },
  {
   "cell_type": "code",
   "execution_count": 117,
   "id": "ec604140-415a-40fd-8c12-b276dd3e8a9f",
   "metadata": {},
   "outputs": [
    {
     "data": {
      "text/plain": [
       "0"
      ]
     },
     "execution_count": 117,
     "metadata": {},
     "output_type": "execute_result"
    }
   ],
   "source": [
    "u_ins = train[\"u_in\"].values.reshape(-1, 35)\n",
    "pressures = train[\"pressure\"].values.reshape(-1, 35)\n",
    "\n",
    "train_plain = pd.read_csv(datadir / \"train_RC_kfold10_seed42.csv\")\n",
    "bids = train_plain.iloc[0::80][\"breath_id\"].values\n",
    "\n",
    "del train_plain\n",
    "gc.collect()"
   ]
  },
  {
   "cell_type": "code",
   "execution_count": 154,
   "id": "80eef52f-5d50-40e5-9c9a-3a36c98f33db",
   "metadata": {
    "tags": []
   },
   "outputs": [
    {
     "name": "stderr",
     "output_type": "stream",
     "text": [
      "100%|████████████████████████████████████████████████████████████████████████████████████████████████████████████████████████████████████████| 75450/75450 [04:05<00:00, 306.78it/s]\n"
     ]
    }
   ],
   "source": [
    "new_features = [\n",
    "    \"u_in_neib_mean_diff\", \"u_in_neib_median_diff\", \"u_in_neib_best_diff\", \"u_in_neib_iqr\",\n",
    "    \"pressure_neib_mean\", \"pressure_neib_median\", \"pressure_best_neib\", \"pressure_neib_iqr\"\n",
    "]\n",
    "new_features = {f: [] for f in new_features}\n",
    "\n",
    "for bid in tqdm(bids):\n",
    "    u_in_ = u_ins[bids == bid, :]\n",
    "    \n",
    "    neib_dist = np.array(train_distances[bid])[1:]\n",
    "    neib_bids = np.array(train_neighbors[bid])[1:]\n",
    "    idx_ = np.argsort(neib_bids)\n",
    "    neib_dist = neib_dist[idx_]\n",
    "    neib_bids = neib_bids[idx_]\n",
    "    \n",
    "    indices = np.isin(bids, neib_bids)\n",
    "    \n",
    "    neib_u_in = u_ins[indices, :]\n",
    "    neib_pressure = pressures[indices, :]\n",
    "    \n",
    "    idx_ = np.argsort(neib_dist)\n",
    "    neib_u_in = neib_u_in[idx_]\n",
    "    neib_pressure = neib_pressure[idx_]\n",
    "    \n",
    "    nui_mean, nui_best = np.mean(neib_u_in, axis=0), neib_u_in[0, :]\n",
    "    nui_q25, nui_q50, nui_q75 = np.quantile(neib_u_in, [0.25, 0.5, 0.75], axis=0)\n",
    "    np_mean, np_best = np.mean(neib_pressure, axis=0), neib_pressure[0, :]\n",
    "    np_q25, np_q50, np_q75 = np.quantile(neib_pressure, [0.25, 0.5, 0.75], axis=0)\n",
    "    \n",
    "    new_features[\"u_in_neib_mean_diff\"].append(u_in_ - nui_mean)\n",
    "    new_features[\"u_in_neib_median_diff\"].append(u_in_ - nui_q50)\n",
    "    new_features[\"u_in_neib_best_diff\"].append(u_in_ - nui_best)\n",
    "    new_features[\"u_in_neib_iqr\"].append(nui_q75 - nui_q25)\n",
    "    \n",
    "    new_features[\"pressure_neib_mean\"].append(np_mean)\n",
    "    new_features[\"pressure_neib_median\"].append(np_q50)\n",
    "    new_features[\"pressure_best_neib\"].append(np_best)\n",
    "    new_features[\"pressure_neib_iqr\"].append(np_q75 - np_q25)"
   ]
  },
  {
   "cell_type": "code",
   "execution_count": 155,
   "id": "affb4d8f-8ad4-473a-80e3-847b37811b46",
   "metadata": {},
   "outputs": [],
   "source": [
    "for f_nm, f_value in new_features.items():\n",
    "    train[f_nm] = np.concatenate(f_value).reshape(-1)\n",
    "    \n",
    "train.to_csv(cachedir / \"train-classify-rc-debugFalse.csv\", index=False)\n",
    "train.iloc[:1000 * 35].to_csv(cachedir / \"train-classify-rc-debugTrue.csv\", index=False)"
   ]
  },
  {
   "cell_type": "code",
   "execution_count": 124,
   "id": "36b4bdd0-5d11-4cb7-90f2-57ae6b0fd953",
   "metadata": {},
   "outputs": [
    {
     "data": {
      "text/plain": [
       "36"
      ]
     },
     "execution_count": 124,
     "metadata": {},
     "output_type": "execute_result"
    }
   ],
   "source": [
    "test_u_ins = test[\"u_in\"].values.reshape(-1, 35)\n",
    "\n",
    "test_plain = pd.read_csv(datadir / \"test.csv\")\n",
    "test_bids = test_plain.iloc[0::80][\"breath_id\"].values\n",
    "\n",
    "del test_plain\n",
    "gc.collect()"
   ]
  },
  {
   "cell_type": "code",
   "execution_count": 150,
   "id": "fc0bd451-82dd-42f2-88c0-f45106a82e5a",
   "metadata": {},
   "outputs": [
    {
     "name": "stderr",
     "output_type": "stream",
     "text": [
      "100%|████████████████████████████████████████████████████████████████████████████████████████████████████████████████████████████████████████| 50300/50300 [02:48<00:00, 298.04it/s]\n"
     ]
    }
   ],
   "source": [
    "new_features = [\n",
    "    \"u_in_neib_mean_diff\", \"u_in_neib_median_diff\", \"u_in_neib_best_diff\", \"u_in_neib_iqr\",\n",
    "    \"pressure_neib_mean\", \"pressure_neib_median\", \"pressure_best_neib\", \"pressure_neib_iqr\"\n",
    "]\n",
    "new_features = {f: [] for f in new_features}\n",
    "\n",
    "for bid in tqdm(test_bids):\n",
    "    u_in_ = test_u_ins[test_bids == bid, :]\n",
    "    \n",
    "    neib_dist = np.array(test_distances[bid])[1:]\n",
    "    neib_bids = np.array(test_neighbors[bid])[1:]\n",
    "    idx_ = np.argsort(neib_bids)\n",
    "    neib_dist = neib_dist[idx_]\n",
    "    neib_bids = neib_bids[idx_]\n",
    "    \n",
    "    indices = np.isin(bids, neib_bids)\n",
    "    \n",
    "    neib_u_in = u_ins[indices, :]\n",
    "    neib_pressure = pressures[indices, :]\n",
    "    \n",
    "    idx_ = np.argsort(neib_dist)\n",
    "    neib_u_in = neib_u_in[idx_]\n",
    "    neib_pressure = neib_pressure[idx_]\n",
    "    \n",
    "    nui_mean, nui_best = np.mean(neib_u_in, axis=0), neib_u_in[0, :]\n",
    "    nui_q25, nui_q50, nui_q75 = np.quantile(neib_u_in, [0.25, 0.5, 0.75], axis=0)\n",
    "    np_mean, np_best = np.mean(neib_pressure, axis=0), neib_pressure[0, :]\n",
    "    np_q25, np_q50, np_q75 = np.quantile(neib_pressure, [0.25, 0.5, 0.75], axis=0)\n",
    "    \n",
    "    new_features[\"u_in_neib_mean_diff\"].append(u_in_ - nui_mean)\n",
    "    new_features[\"u_in_neib_median_diff\"].append(u_in_ - nui_q50)\n",
    "    new_features[\"u_in_neib_best_diff\"].append(u_in_ - nui_best)\n",
    "    new_features[\"u_in_neib_iqr\"].append(nui_q75 - nui_q25)\n",
    "    \n",
    "    new_features[\"pressure_neib_mean\"].append(np_mean)\n",
    "    new_features[\"pressure_neib_median\"].append(np_q50)\n",
    "    new_features[\"pressure_best_neib\"].append(np_best)\n",
    "    new_features[\"pressure_neib_iqr\"].append(np_q75 - np_q25)"
   ]
  },
  {
   "cell_type": "code",
   "execution_count": 152,
   "id": "5fb08429-527a-430d-acf7-2e0e50ccd3b0",
   "metadata": {},
   "outputs": [],
   "source": [
    "for f_nm, f_value in new_features.items():\n",
    "    test[f_nm] = np.concatenate(f_value).reshape(-1)\n",
    "    \n",
    "test.to_csv(cachedir / \"test-classify-rc-debugFalse.csv\", index=False)\n",
    "test.iloc[:1000 * 35].to_csv(cachedir / \"test-classify-rc-debugTrue.csv\", index=False)"
   ]
  },
  {
   "cell_type": "code",
   "execution_count": null,
   "id": "5c22ae3d-4d5d-4943-bd2e-06105208c8f1",
   "metadata": {},
   "outputs": [],
   "source": []
  }
 ],
 "metadata": {
  "kernelspec": {
   "display_name": "Python 3 (ipykernel)",
   "language": "python",
   "name": "python3"
  },
  "language_info": {
   "codemirror_mode": {
    "name": "ipython",
    "version": 3
   },
   "file_extension": ".py",
   "mimetype": "text/x-python",
   "name": "python",
   "nbconvert_exporter": "python",
   "pygments_lexer": "ipython3",
   "version": "3.9.0"
  }
 },
 "nbformat": 4,
 "nbformat_minor": 5
}
